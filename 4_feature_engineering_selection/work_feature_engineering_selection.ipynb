{
  "nbformat": 4,
  "nbformat_minor": 0,
  "metadata": {
    "kernelspec": {
      "display_name": "Python 3",
      "language": "python",
      "name": "python3"
    },
    "language_info": {
      "codemirror_mode": {
        "name": "ipython",
        "version": 3
      },
      "file_extension": ".py",
      "mimetype": "text/x-python",
      "name": "python",
      "nbconvert_exporter": "python",
      "pygments_lexer": "ipython3",
      "version": "3.7.9"
    },
    "toc": {
      "base_numbering": 1,
      "nav_menu": {},
      "number_sections": true,
      "sideBar": true,
      "skip_h1_title": false,
      "title_cell": "Table of Contents",
      "title_sidebar": "Contents",
      "toc_cell": false,
      "toc_position": {
        "height": "calc(100% - 180px)",
        "left": "10px",
        "top": "150px",
        "width": "404.21px"
      },
      "toc_section_display": true,
      "toc_window_display": true
    },
    "colab": {
      "name": "work_feature_engineering_selection.ipynb",
      "provenance": [],
      "collapsed_sections": [
        "RWN3GxfZ4vYi",
        "JLFE1Gxp4vYs",
        "_9OXWLrjhHaL"
      ]
    }
  },
  "cells": [
    {
      "cell_type": "code",
      "metadata": {
        "id": "cnGHoCevgv9W",
        "colab": {
          "base_uri": "https://localhost:8080/"
        },
        "outputId": "2fa9305f-1d5f-4284-98a5-60ec096558b0"
      },
      "source": [
        "from google.colab import drive\n",
        "drive.mount('/content/drive')"
      ],
      "execution_count": 1,
      "outputs": [
        {
          "output_type": "stream",
          "text": [
            "Mounted at /content/drive\n"
          ],
          "name": "stdout"
        }
      ]
    },
    {
      "cell_type": "code",
      "metadata": {
        "colab": {
          "base_uri": "https://localhost:8080/"
        },
        "id": "se-TMnsbzOZR",
        "outputId": "212e92b3-0c9e-406f-ad7c-f42bd219eb30"
      },
      "source": [
        "# pip install -U scikit-learn #-> to update sklearn"
      ],
      "execution_count": 2,
      "outputs": [
        {
          "output_type": "stream",
          "text": [
            "Requirement already up-to-date: scikit-learn in /usr/local/lib/python3.6/dist-packages (0.24.1)\n",
            "Requirement already satisfied, skipping upgrade: numpy>=1.13.3 in /usr/local/lib/python3.6/dist-packages (from scikit-learn) (1.19.5)\n",
            "Requirement already satisfied, skipping upgrade: scipy>=0.19.1 in /usr/local/lib/python3.6/dist-packages (from scikit-learn) (1.4.1)\n",
            "Requirement already satisfied, skipping upgrade: threadpoolctl>=2.0.0 in /usr/local/lib/python3.6/dist-packages (from scikit-learn) (2.1.0)\n",
            "Requirement already satisfied, skipping upgrade: joblib>=0.11 in /usr/local/lib/python3.6/dist-packages (from scikit-learn) (1.0.0)\n"
          ],
          "name": "stdout"
        }
      ]
    },
    {
      "cell_type": "markdown",
      "metadata": {
        "id": "7A35nhls4vYV"
      },
      "source": [
        "**Data preparation** is one of the essential processes in machine learning projects workflow: with well-prepared input even simple algorithm can achieve great result, and without it --- it’s hard to get something meaningful even using the most sophisticated models (remember concept of \"[garbage in — garbage out](https://en.wikipedia.org/wiki/Garbage_in,_garbage_out)\").\n",
        "\n",
        "Usually, specific preparation of data for ML modeling can be considered as part of [ETL](https://en.wikipedia.org/wiki/Extract,_transform,_load) process and consists of following steps:\n",
        "\n",
        "* **feature engineering**: transformation of raw data into proper features, that can be useful for modeling; sometimes, when original data is complex enough (e. g. text, images) this process is also called *feature extraction, feature preparation*.\n",
        "* **feature selection**: removing unnecessary features (usually it can help to improve model quality/performance/etc).\n"
      ]
    },
    {
      "cell_type": "code",
      "metadata": {
        "id": "dwN8O9Cf4vYa"
      },
      "source": [
        "import numpy as np\n",
        "import pandas as pd\n",
        "import seaborn as sns\n",
        "import matplotlib.pyplot as plt\n",
        "\n",
        "from sklearn.impute import SimpleImputer\n",
        "from sklearn.preprocessing import StandardScaler, MinMaxScaler, OrdinalEncoder, OneHotEncoder\n",
        "from sklearn.decomposition import PCA\n",
        "\n",
        "from sklearn.feature_selection import VarianceThreshold, SelectFromModel, RFECV #, SequentialFeatureSelector\n",
        "\n",
        "from sklearn.ensemble import RandomForestClassifier, RandomForestRegressor\n",
        "from sklearn.linear_model import LogisticRegression\n",
        "\n",
        "from sklearn.model_selection import KFold, cross_val_score, train_test_split\n",
        "from sklearn.pipeline import Pipeline, make_pipeline\n",
        "from sklearn.metrics import accuracy_score\n",
        "\n",
        "from sklearn.datasets import make_classification, load_wine, load_breast_cancer, load_diabetes\n",
        "\n",
        "# Graphics in Retina format are more sharp and legible\n",
        "%config InlineBackend.figure_format = 'retina' \n",
        "\n",
        "%matplotlib inline"
      ],
      "execution_count": 80,
      "outputs": []
    },
    {
      "cell_type": "code",
      "metadata": {
        "id": "XeuRQ14O4vYb"
      },
      "source": [
        "plt.style.use('seaborn-darkgrid')"
      ],
      "execution_count": 152,
      "outputs": []
    },
    {
      "cell_type": "code",
      "metadata": {
        "id": "2K09ZUiU4vYb"
      },
      "source": [
        "def plot_scatter(x, y, auto_scaled=True, title=None, clusters=None):\n",
        "    plt.figure(figsize=(4, 4))\n",
        "    plt.scatter(x, y)\n",
        "    \n",
        "    if not auto_scaled:\n",
        "        plt.axis('square')\n",
        "    \n",
        "    plt.grid(True)\n",
        "    plt.title(title)\n",
        "    \n",
        "    plt.show()\n",
        "    \n",
        "def return_X_y(data, target_column):\n",
        "    return data.drop(target_column, axis=1), data[target_column]"
      ],
      "execution_count": 153,
      "outputs": []
    },
    {
      "cell_type": "markdown",
      "metadata": {
        "id": "rUQfxewD4vYc"
      },
      "source": [
        "# Feature Engineering"
      ]
    },
    {
      "cell_type": "markdown",
      "metadata": {
        "id": "sx4EU8-E4vYc"
      },
      "source": [
        "## Missing Values Preprocessing"
      ]
    },
    {
      "cell_type": "code",
      "metadata": {
        "id": "eIK6ovQqg2W3"
      },
      "source": [
        "# path to the df in GDrive\n",
        "housing_data = pd.read_csv('/content/drive/MyDrive/Colab Notebooks/RS_School/ml-intro-2021/ml-intro-2021/' \\\n",
        "                   '4_feature_engineering_selection/Melbourne_housing_FULL.csv')"
      ],
      "execution_count": 5,
      "outputs": []
    },
    {
      "cell_type": "code",
      "metadata": {
        "colab": {
          "base_uri": "https://localhost:8080/"
        },
        "id": "qXvS1Kch3I2Y",
        "outputId": "34b547ae-5ca7-49fe-bc5d-4ef245732e9e"
      },
      "source": [
        "# Checking the amount of NaN's and not NaN's\n",
        "housing_data.Price.notnull().sum(), housing_data.Price.isnull().sum()"
      ],
      "execution_count": null,
      "outputs": [
        {
          "output_type": "execute_result",
          "data": {
            "text/plain": [
              "(27247, 7610)"
            ]
          },
          "metadata": {
            "tags": []
          },
          "execution_count": 33
        }
      ]
    },
    {
      "cell_type": "code",
      "metadata": {
        "id": "6Vdib8RC4vYc"
      },
      "source": [
        "#housing_data = pd.read_csv('Melbourne_housing_FULL.csv')\n",
        "\n",
        "# deleting Price column from the dataset \n",
        "# preparing for the regression task ? \n",
        "housing_data = housing_data[~housing_data['Price'].isnull()]"
      ],
      "execution_count": 6,
      "outputs": []
    },
    {
      "cell_type": "markdown",
      "metadata": {
        "id": "gm7ea8rd4vYc"
      },
      "source": [
        "Missing values are one of the most common problems you can encounter when you try to prepare your data for machine learning. The reason for the missing values might be human errors, interruptions in the data flow, privacy concerns, and so on. Whatever is the reason, missing values affect the performance of the machine learning models (most of the algorithms do not even accept datasets with missing values)."
      ]
    },
    {
      "cell_type": "markdown",
      "metadata": {
        "id": "mpmEL0LW4vYd"
      },
      "source": [
        "First let's check the amount of missing value in each column of our dataset:"
      ]
    },
    {
      "cell_type": "code",
      "metadata": {
        "id": "elbyo5Pv4vYd",
        "colab": {
          "base_uri": "https://localhost:8080/"
        },
        "outputId": "1aa86b4b-0b8e-4eb5-eff4-9bd10b045312"
      },
      "source": [
        "housing_data.isnull().mean() # housing_data.isnull().sum() to get absolute numbers"
      ],
      "execution_count": 9,
      "outputs": [
        {
          "output_type": "execute_result",
          "data": {
            "text/plain": [
              "Suburb           0.000000\n",
              "Address          0.000000\n",
              "Rooms            0.000000\n",
              "Type             0.000000\n",
              "Price            0.000000\n",
              "Method           0.000000\n",
              "SellerG          0.000000\n",
              "Date             0.000000\n",
              "Distance         0.000037\n",
              "Postcode         0.000037\n",
              "Bedroom2         0.236393\n",
              "Bathroom         0.236613\n",
              "Car              0.250450\n",
              "Landsize         0.340037\n",
              "BuildingArea     0.608911\n",
              "YearBuilt        0.556502\n",
              "CouncilArea      0.000110\n",
              "Lattitude        0.229530\n",
              "Longtitude       0.229530\n",
              "Regionname       0.000110\n",
              "Propertycount    0.000110\n",
              "dtype: float64"
            ]
          },
          "metadata": {
            "tags": []
          },
          "execution_count": 9
        }
      ]
    },
    {
      "cell_type": "code",
      "metadata": {
        "colab": {
          "base_uri": "https://localhost:8080/"
        },
        "id": "Dv-3BTky5xYM",
        "outputId": "b6751798-a404-4abe-c87f-e1d52f94cf94"
      },
      "source": [
        "housing_data.isnull().sum() # to get absolute numbers"
      ],
      "execution_count": 10,
      "outputs": [
        {
          "output_type": "execute_result",
          "data": {
            "text/plain": [
              "Suburb               0\n",
              "Address              0\n",
              "Rooms                0\n",
              "Type                 0\n",
              "Price                0\n",
              "Method               0\n",
              "SellerG              0\n",
              "Date                 0\n",
              "Distance             1\n",
              "Postcode             1\n",
              "Bedroom2          6441\n",
              "Bathroom          6447\n",
              "Car               6824\n",
              "Landsize          9265\n",
              "BuildingArea     16591\n",
              "YearBuilt        15163\n",
              "CouncilArea          3\n",
              "Lattitude         6254\n",
              "Longtitude        6254\n",
              "Regionname           3\n",
              "Propertycount        3\n",
              "dtype: int64"
            ]
          },
          "metadata": {
            "tags": []
          },
          "execution_count": 10
        }
      ]
    },
    {
      "cell_type": "code",
      "metadata": {
        "colab": {
          "base_uri": "https://localhost:8080/"
        },
        "id": "kif4CsCB51Un",
        "outputId": "c46f1248-b6e6-4b51-9909-6723b1f83c2a"
      },
      "source": [
        "# Another way to combine % and actual number of missing values in one code cell\n",
        "from tabulate import tabulate\n",
        "\n",
        "top = 15\n",
        "print(tabulate(\n",
        "    sorted(list(zip(housing_data.columns, housing_data.isnull().sum(), housing_data.isnull().sum() / housing_data.shape[0] * 100)), key=lambda x: -x[2])[:top], \n",
        "    headers=['col_name', 'null_cnt', 'null_perc']))"
      ],
      "execution_count": 14,
      "outputs": [
        {
          "output_type": "stream",
          "text": [
            "col_name         null_cnt    null_perc\n",
            "-------------  ----------  -----------\n",
            "BuildingArea        16591  60.8911\n",
            "YearBuilt           15163  55.6502\n",
            "Landsize             9265  34.0037\n",
            "Car                  6824  25.045\n",
            "Bathroom             6447  23.6613\n",
            "Bedroom2             6441  23.6393\n",
            "Lattitude            6254  22.953\n",
            "Longtitude           6254  22.953\n",
            "CouncilArea             3   0.0110104\n",
            "Regionname              3   0.0110104\n",
            "Propertycount           3   0.0110104\n",
            "Distance                1   0.00367013\n",
            "Postcode                1   0.00367013\n",
            "Suburb                  0   0\n",
            "Address                 0   0\n"
          ],
          "name": "stdout"
        }
      ]
    },
    {
      "cell_type": "code",
      "metadata": {
        "colab": {
          "base_uri": "https://localhost:8080/"
        },
        "id": "S9VaWJTl602r",
        "outputId": "565ce8af-6cad-4247-d48f-937afe7b33a9"
      },
      "source": [
        "# The shape of the dataset\n",
        "housing_data.shape"
      ],
      "execution_count": 15,
      "outputs": [
        {
          "output_type": "execute_result",
          "data": {
            "text/plain": [
              "(27247, 21)"
            ]
          },
          "metadata": {
            "tags": []
          },
          "execution_count": 15
        }
      ]
    },
    {
      "cell_type": "code",
      "metadata": {
        "colab": {
          "base_uri": "https://localhost:8080/"
        },
        "id": "GavwhtC467CN",
        "outputId": "3c5daab5-b4d3-4bbf-97ec-7aa0ba88f4b9"
      },
      "source": [
        "# Printing the number of columns alongside with their names \n",
        "[i for i in enumerate(housing_data.columns)]"
      ],
      "execution_count": 16,
      "outputs": [
        {
          "output_type": "execute_result",
          "data": {
            "text/plain": [
              "[(0, 'Suburb'),\n",
              " (1, 'Address'),\n",
              " (2, 'Rooms'),\n",
              " (3, 'Type'),\n",
              " (4, 'Price'),\n",
              " (5, 'Method'),\n",
              " (6, 'SellerG'),\n",
              " (7, 'Date'),\n",
              " (8, 'Distance'),\n",
              " (9, 'Postcode'),\n",
              " (10, 'Bedroom2'),\n",
              " (11, 'Bathroom'),\n",
              " (12, 'Car'),\n",
              " (13, 'Landsize'),\n",
              " (14, 'BuildingArea'),\n",
              " (15, 'YearBuilt'),\n",
              " (16, 'CouncilArea'),\n",
              " (17, 'Lattitude'),\n",
              " (18, 'Longtitude'),\n",
              " (19, 'Regionname'),\n",
              " (20, 'Propertycount')]"
            ]
          },
          "metadata": {
            "tags": []
          },
          "execution_count": 16
        }
      ]
    },
    {
      "cell_type": "markdown",
      "metadata": {
        "id": "JEVV8gnD4vYe"
      },
      "source": [
        "The most simple strategy is to drop entire rows and/or columns containing missing values based on some threshold (for example, if column contains more than *30%* --- drop it, then drop all rows that still contains some NaN's)."
      ]
    },
    {
      "cell_type": "code",
      "metadata": {
        "id": "V9TY4and4vYe",
        "outputId": "1b8d2b80-97ba-4dbf-979c-c5b8358d90b3"
      },
      "source": [
        "threshold = 0.3\n",
        "housing_data_dropped = housing_data[housing_data.columns[housing_data.isnull().mean() < threshold]]\n",
        "housing_data_dropped = housing_data_dropped.dropna(axis=0, how='any') # params is optinal here (matching defaults)\n",
        "\n",
        "print(f'Original dataset shape (rows, cols): {housing_data.shape}')\n",
        "print(f'Dataset shape (rows, cols) after dropna: {housing_data_dropped.shape}')"
      ],
      "execution_count": null,
      "outputs": [
        {
          "output_type": "stream",
          "text": [
            "Original dataset shape (rows, cols): (27247, 21)\n",
            "Dataset shape (rows, cols) after dropna: (20401, 18)\n"
          ],
          "name": "stdout"
        }
      ]
    },
    {
      "cell_type": "markdown",
      "metadata": {
        "id": "Uq_o3fvt4vYe"
      },
      "source": [
        "In general dropping data without additional investigation is not a good approach in most cases since you lose a lot of potentially useful information. For this particular dataset we've fully dropped `Landsize`, `BuildingArea` columns (which actually seem like strong features from common sense). \n",
        "\n",
        "Usually a better strategy is to impute the missing values, i.e., to infer them from the known part of the data. However, there is an important selection of what you impute to the missing values. You can use default value of missing values in the column. For example, if you have a column that only has `1` and `N\\A`, then it is likely that the `N\\A` rows may be considered as `0`. \n",
        "Another way is to use basic statistics (like *mean* and *medians* of the columns) for imputation."
      ]
    },
    {
      "cell_type": "code",
      "metadata": {
        "id": "ZfN1JQBM4vYf"
      },
      "source": [
        "# const imputing\n",
        "housing_data_const = housing_data.fillna(value=0)\n",
        "\n",
        "# mean imputing\n",
        "housing_data_mean = housing_data.fillna(housing_data.mean())"
      ],
      "execution_count": 17,
      "outputs": []
    },
    {
      "cell_type": "markdown",
      "metadata": {
        "id": "zdHBL5yy4vYf"
      },
      "source": [
        "There are also some advanced technics [KNN Imputation](), [Multivariate imputation]().\n",
        "\n",
        "But commonly the most beneficial way is to dig deeper in available data, understand root cases of the problem and develop mixed strategy (for separate features based on investigation results). **Subject matter expertise rules!**\n",
        "\n",
        "For example, one of the questions you may ask yourself to help figure this out is this: \n",
        "\n",
        "`Is this value missing because it wasn't recorded or because it doesn’t exist?`\n",
        "\n",
        "If the value is missing because it doesn’t exist (like the height of the oldest child of someone who doesn't have any children) then it doesn't make sense to try and guess what it might be. These values you probably do want to mark this value using some special tag (or create separate bool feature). On the other hand, if a value is missing because it wasn't recorded, then you may probably use some of the imputation technics mentioned above or even more sophisticated ones.\n"
      ]
    },
    {
      "cell_type": "markdown",
      "metadata": {
        "id": "UiIL8kPM4vYf"
      },
      "source": [
        "## Feature scaling"
      ]
    },
    {
      "cell_type": "code",
      "metadata": {
        "id": "zuPDVTiE4vYf",
        "colab": {
          "base_uri": "https://localhost:8080/",
          "height": 196
        },
        "outputId": "c1aab668-b368-433b-dcc6-e34986328baf"
      },
      "source": [
        "wine_sklearn = load_wine(as_frame=True)\n",
        "wine_data, wine_labels = wine_sklearn['data'], wine_sklearn['target']\n",
        "wine_data"
      ],
      "execution_count": 1,
      "outputs": [
        {
          "output_type": "error",
          "ename": "NameError",
          "evalue": "ignored",
          "traceback": [
            "\u001b[0;31m---------------------------------------------------------------------------\u001b[0m",
            "\u001b[0;31mNameError\u001b[0m                                 Traceback (most recent call last)",
            "\u001b[0;32m<ipython-input-1-28a0a63f3585>\u001b[0m in \u001b[0;36m<module>\u001b[0;34m()\u001b[0m\n\u001b[0;32m----> 1\u001b[0;31m \u001b[0mwine_sklearn\u001b[0m \u001b[0;34m=\u001b[0m \u001b[0mload_wine\u001b[0m\u001b[0;34m(\u001b[0m\u001b[0mas_frame\u001b[0m\u001b[0;34m=\u001b[0m\u001b[0;32mTrue\u001b[0m\u001b[0;34m)\u001b[0m\u001b[0;34m\u001b[0m\u001b[0;34m\u001b[0m\u001b[0m\n\u001b[0m\u001b[1;32m      2\u001b[0m \u001b[0mwine_data\u001b[0m\u001b[0;34m,\u001b[0m \u001b[0mwine_labels\u001b[0m \u001b[0;34m=\u001b[0m \u001b[0mwine_sklearn\u001b[0m\u001b[0;34m[\u001b[0m\u001b[0;34m'data'\u001b[0m\u001b[0;34m]\u001b[0m\u001b[0;34m,\u001b[0m \u001b[0mwine_sklearn\u001b[0m\u001b[0;34m[\u001b[0m\u001b[0;34m'target'\u001b[0m\u001b[0;34m]\u001b[0m\u001b[0;34m\u001b[0m\u001b[0;34m\u001b[0m\u001b[0m\n\u001b[1;32m      3\u001b[0m \u001b[0mwine_data\u001b[0m\u001b[0;34m\u001b[0m\u001b[0;34m\u001b[0m\u001b[0m\n",
            "\u001b[0;31mNameError\u001b[0m: name 'load_wine' is not defined"
          ]
        }
      ]
    },
    {
      "cell_type": "code",
      "metadata": {
        "colab": {
          "base_uri": "https://localhost:8080/"
        },
        "id": "XnAVFhhmQ9Tq",
        "outputId": "a5b4e50d-2eb6-4754-b243-b24892e598eb"
      },
      "source": [
        "wine_data.info()"
      ],
      "execution_count": 33,
      "outputs": [
        {
          "output_type": "stream",
          "text": [
            "<class 'pandas.core.frame.DataFrame'>\n",
            "RangeIndex: 178 entries, 0 to 177\n",
            "Data columns (total 13 columns):\n",
            " #   Column                        Non-Null Count  Dtype  \n",
            "---  ------                        --------------  -----  \n",
            " 0   alcohol                       178 non-null    float64\n",
            " 1   malic_acid                    178 non-null    float64\n",
            " 2   ash                           178 non-null    float64\n",
            " 3   alcalinity_of_ash             178 non-null    float64\n",
            " 4   magnesium                     178 non-null    float64\n",
            " 5   total_phenols                 178 non-null    float64\n",
            " 6   flavanoids                    178 non-null    float64\n",
            " 7   nonflavanoid_phenols          178 non-null    float64\n",
            " 8   proanthocyanins               178 non-null    float64\n",
            " 9   color_intensity               178 non-null    float64\n",
            " 10  hue                           178 non-null    float64\n",
            " 11  od280/od315_of_diluted_wines  178 non-null    float64\n",
            " 12  proline                       178 non-null    float64\n",
            "dtypes: float64(13)\n",
            "memory usage: 18.2 KB\n"
          ],
          "name": "stdout"
        }
      ]
    },
    {
      "cell_type": "markdown",
      "metadata": {
        "id": "nZU2bsoy4vYg"
      },
      "source": [
        "In real world datasets you can often see multiple features spanning varying degrees of magnitude, range, and units. This is a significant obstacle as a lot of machine learning algorithms are highly sensitive to such things.\n",
        "\n",
        "To make it simple: algorithm just sees number and does not know what that number represents --- if there is a vast difference in the range say few ranging in thousands and few ranging in dozens, it makes the underlying assumption that higher ranging numbers have superiority of some sort. So, these more significant number starts playing a more decisive role while training the model.\n",
        "\n",
        "For example, you might be looking at the prices of some products in both Yen and US Dollars. One US Dollar is worth about 100 Yen, but if you don't scale your prices methods like SVM or KNN will consider a difference in price of 1 Yen as important as a difference of 1 US Dollar! This clearly doesn't fit with our intuitions of the world. With currency, you can convert between currencies. But what about if you're looking at something like height and weight? It's not entirely clear how many pounds should equal one inch (or how many kilograms should equal one meter).\n",
        "\n",
        "By scaling your variables, you can help compare different variables on equal footing (scale)."
      ]
    },
    {
      "cell_type": "markdown",
      "metadata": {
        "id": "JDap4U8q4vYg"
      },
      "source": [
        "### Standartization"
      ]
    },
    {
      "cell_type": "markdown",
      "metadata": {
        "id": "L_h-9CRr4vYg"
      },
      "source": [
        "**Standardization** of datasets is a common requirement for many machine learning models. The idea is to transform the data to the center it by removing the mean value of each feature, then scale it by dividing non-constant features by their standard deviation.\n",
        "\n",
        "$$scaled\\_X = \\frac{X - mean(X)}{std(X)}$$, where $X$ is **feature column** (not dataset itself!)\n",
        "\n",
        "A common approach is to use `StandardScaler` from `sklearn`:\n"
      ]
    },
    {
      "cell_type": "code",
      "metadata": {
        "id": "1dcqrNt84vYg",
        "colab": {
          "base_uri": "https://localhost:8080/"
        },
        "outputId": "ad03d5ed-c05a-4ccf-b085-3a85e3c007bc"
      },
      "source": [
        "scaler = StandardScaler()\n",
        "wine_data_scaled = scaler.fit_transform(wine_data)\n",
        "wine_data_scaled"
      ],
      "execution_count": 35,
      "outputs": [
        {
          "output_type": "execute_result",
          "data": {
            "text/plain": [
              "array([[ 1.51861254, -0.5622498 ,  0.23205254, ...,  0.36217728,\n",
              "         1.84791957,  1.01300893],\n",
              "       [ 0.24628963, -0.49941338, -0.82799632, ...,  0.40605066,\n",
              "         1.1134493 ,  0.96524152],\n",
              "       [ 0.19687903,  0.02123125,  1.10933436, ...,  0.31830389,\n",
              "         0.78858745,  1.39514818],\n",
              "       ...,\n",
              "       [ 0.33275817,  1.74474449, -0.38935541, ..., -1.61212515,\n",
              "        -1.48544548,  0.28057537],\n",
              "       [ 0.20923168,  0.22769377,  0.01273209, ..., -1.56825176,\n",
              "        -1.40069891,  0.29649784],\n",
              "       [ 1.39508604,  1.58316512,  1.36520822, ..., -1.52437837,\n",
              "        -1.42894777, -0.59516041]])"
            ]
          },
          "metadata": {
            "tags": []
          },
          "execution_count": 35
        }
      ]
    },
    {
      "cell_type": "markdown",
      "metadata": {
        "id": "uTf0w5qX4vYh"
      },
      "source": [
        "Let's illustrate the influence of scaling on [PCA](https://en.wikipedia.org/wiki/Principal_component_analysis):"
      ]
    },
    {
      "cell_type": "code",
      "metadata": {
        "id": "neli3MYI4vYh",
        "colab": {
          "base_uri": "https://localhost:8080/",
          "height": 615
        },
        "outputId": "5f1b9db7-1823-4eb5-b146-0a5a661305ae"
      },
      "source": [
        "pca = PCA(n_components=2)\n",
        "\n",
        "wine_data_pca = pca.fit_transform(wine_data)\n",
        "wine_data_scaled_pca = pca.fit_transform(wine_data_scaled)\n",
        "\n",
        "fig, (ax1, ax2) = plt.subplots(ncols=2, figsize=(18, 10))\n",
        "\n",
        "for l, c, m in zip(range(0, 3), ('blue', 'red', 'green'), ('^', 's', 'o')):\n",
        "    ax1.scatter(wine_data_pca[wine_labels == l, 0], wine_data_pca[wine_labels == l, 1], \n",
        "                color=c, label=f'class {l}', alpha=0.5, marker=m)\n",
        "\n",
        "for l, c, m in zip(range(0, 3), ('blue', 'red', 'green'), ('^', 's', 'o')):\n",
        "    ax2.scatter(wine_data_scaled_pca[wine_labels == l, 0], wine_data_scaled_pca[wine_labels == l, 1], \n",
        "                color=c, label=f'class {l}', alpha=0.5, marker=m)\n",
        "    \n",
        "ax1.set_title('Dataset after PCA')\n",
        "ax2.set_title('Standardized dataset after PCA')\n",
        "\n",
        "for ax in (ax1, ax2):\n",
        "    ax.set_xlabel('1st principal component')\n",
        "    ax.set_ylabel('2nd principal component')\n",
        "    ax.legend(loc='upper right')"
      ],
      "execution_count": 38,
      "outputs": [
        {
          "output_type": "display_data",
          "data": {
            "image/png": "[encoded data removed]",
            "text/plain": [
              "<Figure size 1296x720 with 2 Axes>"
            ]
          },
          "metadata": {
            "tags": [],
            "image/png": {
              "width": 1052,
              "height": 598
            }
          }
        }
      ]
    },
    {
      "cell_type": "markdown",
      "metadata": {
        "id": "vd-vJpCi4vYh"
      },
      "source": [
        "### Normalization"
      ]
    },
    {
      "cell_type": "markdown",
      "metadata": {
        "id": "R3HlGsX04vYi"
      },
      "source": [
        "An alternative standardization is scaling features to lie between a given minimum and maximum value, often between zero and one, or so that the maximum absolute value of each feature is scaled to unit size (also known as **Normalization**.  This can be achieved using `MinMaxScaler` or `MaxAbsScaler` from `sklearn`, respectively.\n",
        "\n",
        "The motivation to use this scaling include robustness to very small standard deviations of features and preserving zero entries in sparse data."
      ]
    },
    {
      "cell_type": "markdown",
      "metadata": {
        "id": "cB4Z77_j4vYi"
      },
      "source": [
        "$$normalised\\_X = \\frac{X - min(X)}{max(X) - min(X)}$$, where $X$ is **feature column** (not dataset itself!)"
      ]
    },
    {
      "cell_type": "code",
      "metadata": {
        "id": "8U1VRuD-4vYi",
        "colab": {
          "base_uri": "https://localhost:8080/"
        },
        "outputId": "4a955325-a734-480c-8e27-bd12832c7c9a"
      },
      "source": [
        "from sklearn.preprocessing import MinMaxScaler\n",
        "\n",
        "scaler = MinMaxScaler()\n",
        "scaler.fit_transform(wine_data)"
      ],
      "execution_count": 42,
      "outputs": [
        {
          "output_type": "execute_result",
          "data": {
            "text/plain": [
              "array([[0.84210526, 0.1916996 , 0.57219251, ..., 0.45528455, 0.97069597,\n",
              "        0.56134094],\n",
              "       [0.57105263, 0.2055336 , 0.4171123 , ..., 0.46341463, 0.78021978,\n",
              "        0.55064194],\n",
              "       [0.56052632, 0.3201581 , 0.70053476, ..., 0.44715447, 0.6959707 ,\n",
              "        0.64693295],\n",
              "       ...,\n",
              "       [0.58947368, 0.69960474, 0.48128342, ..., 0.08943089, 0.10622711,\n",
              "        0.39728959],\n",
              "       [0.56315789, 0.36561265, 0.54010695, ..., 0.09756098, 0.12820513,\n",
              "        0.40085592],\n",
              "       [0.81578947, 0.66403162, 0.73796791, ..., 0.10569106, 0.12087912,\n",
              "        0.20114123]])"
            ]
          },
          "metadata": {
            "tags": []
          },
          "execution_count": 42
        }
      ]
    },
    {
      "cell_type": "markdown",
      "metadata": {
        "id": "RWN3GxfZ4vYi"
      },
      "source": [
        "## Log/Power Transform"
      ]
    },
    {
      "cell_type": "markdown",
      "metadata": {
        "id": "N1_kMlqL4vYj"
      },
      "source": [
        "Log transformation is a data transformation method in which it replaces each variable $x$ with a $log(x)$. The choice of the logarithm base is usually left up to the analyst and it would depend on the purposes of statistical modeling.\n",
        "\n",
        "When our original continuous data do not follow the bell curve, we can log transform this data to make it as “normal” as possible so that the statistical analysis results from this data become more valid. In other words, the log transformation reduces or removes the skewness of our original data. The important caveat here is that the original data has to approximately follow a *log-normal distribution*. Otherwise, you can't expect any guarantees that result distribution will be close to normal (but even in such cases log transform can help to improve you scores)."
      ]
    },
    {
      "cell_type": "code",
      "metadata": {
        "id": "Rdfsxkho4vYj"
      },
      "source": [
        "mu, sigma = 5, 1\n",
        "lognorm_data = np.random.lognormal(mu, sigma, 1000)"
      ],
      "execution_count": 43,
      "outputs": []
    },
    {
      "cell_type": "code",
      "metadata": {
        "id": "cJo2A-Ka4vYk",
        "colab": {
          "base_uri": "https://localhost:8080/",
          "height": 479
        },
        "outputId": "fb6fe856-b996-4651-eff8-73a97a4e4a1d"
      },
      "source": [
        "plt.figure(figsize=(16,8))\n",
        "sns.histplot(lognorm_data, stat='probability')\n",
        "plt.show()"
      ],
      "execution_count": 44,
      "outputs": [
        {
          "output_type": "display_data",
          "data": {
            "image/png": "[encoded data removed]",
            "text/plain": [
              "<Figure size 1152x576 with 1 Axes>"
            ]
          },
          "metadata": {
            "tags": [],
            "image/png": {
              "width": 959,
              "height": 462
            }
          }
        }
      ]
    },
    {
      "cell_type": "code",
      "metadata": {
        "id": "xiInw8iX4vYk",
        "colab": {
          "base_uri": "https://localhost:8080/",
          "height": 479
        },
        "outputId": "9c2c7015-bdb1-470d-e56f-6fb2ed9ba4c4"
      },
      "source": [
        "plt.figure(figsize=(16,8))\n",
        "sns.histplot(np.log(lognorm_data), stat='probability')\n",
        "plt.show()"
      ],
      "execution_count": 45,
      "outputs": [
        {
          "output_type": "display_data",
          "data": {
            "image/png": "[encoded data removed]",
            "text/plain": [
              "<Figure size 1152x576 with 1 Axes>"
            ]
          },
          "metadata": {
            "tags": [],
            "image/png": {
              "width": 943,
              "height": 462
            }
          }
        }
      ]
    },
    {
      "cell_type": "markdown",
      "metadata": {
        "id": "HnBinU_w4vYk"
      },
      "source": [
        "This may sound a bit odd: is it even possible to meet something specific like \"log-normal distribution\" in real life?\n",
        "\n",
        "Well, let's plot the price column from Melbourne housing dataset, that we used previously:"
      ]
    },
    {
      "cell_type": "code",
      "metadata": {
        "id": "mHJe5-iH4vYn",
        "colab": {
          "base_uri": "https://localhost:8080/",
          "height": 492
        },
        "outputId": "4ede7e83-2c3b-49cb-c868-08afa7bd7214"
      },
      "source": [
        "plt.figure(figsize=(16,8))\n",
        "sns.histplot(housing_data['Price'], stat='probability')\n",
        "plt.show()"
      ],
      "execution_count": 57,
      "outputs": [
        {
          "output_type": "display_data",
          "data": {
            "image/png": "[encoded data removed]",
            "text/plain": [
              "<Figure size 1152x576 with 1 Axes>"
            ]
          },
          "metadata": {
            "tags": [],
            "image/png": {
              "width": 943,
              "height": 475
            }
          }
        }
      ]
    },
    {
      "cell_type": "markdown",
      "metadata": {
        "id": "Bqf1Z9Ym4vYo"
      },
      "source": [
        "Seems familiar!\n",
        "\n",
        "Eventually, lognormal distribution of some value in real world is quite common (just like normal distribution). It is suitable for describing length of comments, posted in the internet; the salaries amount; the population of cities and many other things. You may find some [more](https://en.wikipedia.org/wiki/Log-normal_distribution#Occurrence_and_applications) examples just on the wikipedia page.\n",
        "\n",
        "However, to get some profit from this transformation, the distribution does not necessarily have to be *exactly* lognormal; you can try to apply it to any distribution with a heavy right tail. Furthermore, one can try to use other similar transformations, formulating their own hypotheses on how to approximate the available distribution to a normal. Examples of such transformations are Box-Cox transformation (log is a special case of the Box-Cox transformation) or Yeo-Johnson transformation (extends the range of applicability to negative numbers). Some information about these transformations and their implementations in `sklean` can be found [here](https://scikit-learn.org/stable/modules/preprocessing.html#non-linear-transformation)."
      ]
    },
    {
      "cell_type": "markdown",
      "metadata": {
        "id": "WBi7HQtG4vYo"
      },
      "source": [
        "## Categorical Features Encoding"
      ]
    },
    {
      "cell_type": "markdown",
      "metadata": {
        "id": "NNmgdfWz4vYo"
      },
      "source": [
        "Quite often features are not given as continuous values but categorical. For example a person could have features `[\"male\", \"female\"], [\"from Europe\", \"from US\", \"from Asia\"], [\"uses Firefox\", \"uses Chrome\", \"uses Safari\", \"uses Internet Explorer\"]`. Such features can be efficiently coded as integers, for instance `[\"male\", \"from US\", \"uses Internet Explorer\"]` could be expressed as `[0, 1, 3]` while `[\"female\", \"from Asia\", \"uses Chrome\"]` would be `[1, 2, 1]`.\n",
        "\n",
        "To convert categorical features to such integer codes, we can use the *ordinal encoding*. It transforms each categorical feature to a range of integers (0 to number of categories - 1)."
      ]
    },
    {
      "cell_type": "code",
      "metadata": {
        "id": "RAD5OFWd4vYo",
        "colab": {
          "base_uri": "https://localhost:8080/",
          "height": 136
        },
        "outputId": "55f6e8ce-f43a-4c3d-b298-191eef0c4997"
      },
      "source": [
        "X = [['male', 'US', 'Safari'], ['female', 'Europe', 'Firefox'], ['male', 'Europe', 'Opera']]\n",
        "pd.DataFrame(X, columns=['gender', 'place', 'browser'])"
      ],
      "execution_count": 58,
      "outputs": [
        {
          "output_type": "execute_result",
          "data": {
            "text/html": [
              "<div>\n",
              "<style scoped>\n",
              "    .dataframe tbody tr th:only-of-type {\n",
              "        vertical-align: middle;\n",
              "    }\n",
              "\n",
              "    .dataframe tbody tr th {\n",
              "        vertical-align: top;\n",
              "    }\n",
              "\n",
              "    .dataframe thead th {\n",
              "        text-align: right;\n",
              "    }\n",
              "</style>\n",
              "<table border=\"1\" class=\"dataframe\">\n",
              "  <thead>\n",
              "    <tr style=\"text-align: right;\">\n",
              "      <th></th>\n",
              "      <th>gender</th>\n",
              "      <th>place</th>\n",
              "      <th>browser</th>\n",
              "    </tr>\n",
              "  </thead>\n",
              "  <tbody>\n",
              "    <tr>\n",
              "      <th>0</th>\n",
              "      <td>male</td>\n",
              "      <td>US</td>\n",
              "      <td>Safari</td>\n",
              "    </tr>\n",
              "    <tr>\n",
              "      <th>1</th>\n",
              "      <td>female</td>\n",
              "      <td>Europe</td>\n",
              "      <td>Firefox</td>\n",
              "    </tr>\n",
              "    <tr>\n",
              "      <th>2</th>\n",
              "      <td>male</td>\n",
              "      <td>Europe</td>\n",
              "      <td>Opera</td>\n",
              "    </tr>\n",
              "  </tbody>\n",
              "</table>\n",
              "</div>"
            ],
            "text/plain": [
              "   gender   place  browser\n",
              "0    male      US   Safari\n",
              "1  female  Europe  Firefox\n",
              "2    male  Europe    Opera"
            ]
          },
          "metadata": {
            "tags": []
          },
          "execution_count": 58
        }
      ]
    },
    {
      "cell_type": "code",
      "metadata": {
        "id": "BNaXcyhM4vYo",
        "colab": {
          "base_uri": "https://localhost:8080/"
        },
        "outputId": "f0a79093-cfe8-4c55-bda3-825f78ba099d"
      },
      "source": [
        "encoder = OrdinalEncoder()\n",
        "ordinal_encoded_X = encoder.fit_transform(X)\n",
        "ordinal_encoded_X"
      ],
      "execution_count": 60,
      "outputs": [
        {
          "output_type": "execute_result",
          "data": {
            "text/plain": [
              "array([[1., 1., 2.],\n",
              "       [0., 0., 0.],\n",
              "       [1., 0., 1.]])"
            ]
          },
          "metadata": {
            "tags": []
          },
          "execution_count": 60
        }
      ]
    },
    {
      "cell_type": "markdown",
      "metadata": {
        "id": "zlQlPThy4vYp"
      },
      "source": [
        "Such integer representation can, however, can be unsuitable, for a lot of models: these expect continuous input, and would interpret the categories as being ordered, which is often not desired.\n",
        "\n",
        "Another possibility to convert categorical features to features that can be used with scikit-learn estimators is to use *one-hot* encoding. The idea is to transforms each categorical feature, that has $n$ different possible categories, into $n$ separate binary features (whether the object belongs to specific category or not)."
      ]
    },
    {
      "cell_type": "code",
      "metadata": {
        "id": "NVOowsw54vYp"
      },
      "source": [
        "encoder = OneHotEncoder()\n",
        "ohe_encoded_X = encoder.fit_transform(X).toarray()"
      ],
      "execution_count": 61,
      "outputs": []
    },
    {
      "cell_type": "code",
      "metadata": {
        "id": "TwZJJq0x4vYp",
        "colab": {
          "base_uri": "https://localhost:8080/",
          "height": 136
        },
        "outputId": "1cd7c16c-f41e-4290-bb86-47c50271b928"
      },
      "source": [
        "pd.DataFrame(ohe_encoded_X, columns=encoder.get_feature_names())"
      ],
      "execution_count": 62,
      "outputs": [
        {
          "output_type": "execute_result",
          "data": {
            "text/html": [
              "<div>\n",
              "<style scoped>\n",
              "    .dataframe tbody tr th:only-of-type {\n",
              "        vertical-align: middle;\n",
              "    }\n",
              "\n",
              "    .dataframe tbody tr th {\n",
              "        vertical-align: top;\n",
              "    }\n",
              "\n",
              "    .dataframe thead th {\n",
              "        text-align: right;\n",
              "    }\n",
              "</style>\n",
              "<table border=\"1\" class=\"dataframe\">\n",
              "  <thead>\n",
              "    <tr style=\"text-align: right;\">\n",
              "      <th></th>\n",
              "      <th>x0_female</th>\n",
              "      <th>x0_male</th>\n",
              "      <th>x1_Europe</th>\n",
              "      <th>x1_US</th>\n",
              "      <th>x2_Firefox</th>\n",
              "      <th>x2_Opera</th>\n",
              "      <th>x2_Safari</th>\n",
              "    </tr>\n",
              "  </thead>\n",
              "  <tbody>\n",
              "    <tr>\n",
              "      <th>0</th>\n",
              "      <td>0.0</td>\n",
              "      <td>1.0</td>\n",
              "      <td>0.0</td>\n",
              "      <td>1.0</td>\n",
              "      <td>0.0</td>\n",
              "      <td>0.0</td>\n",
              "      <td>1.0</td>\n",
              "    </tr>\n",
              "    <tr>\n",
              "      <th>1</th>\n",
              "      <td>1.0</td>\n",
              "      <td>0.0</td>\n",
              "      <td>1.0</td>\n",
              "      <td>0.0</td>\n",
              "      <td>1.0</td>\n",
              "      <td>0.0</td>\n",
              "      <td>0.0</td>\n",
              "    </tr>\n",
              "    <tr>\n",
              "      <th>2</th>\n",
              "      <td>0.0</td>\n",
              "      <td>1.0</td>\n",
              "      <td>1.0</td>\n",
              "      <td>0.0</td>\n",
              "      <td>0.0</td>\n",
              "      <td>1.0</td>\n",
              "      <td>0.0</td>\n",
              "    </tr>\n",
              "  </tbody>\n",
              "</table>\n",
              "</div>"
            ],
            "text/plain": [
              "   x0_female  x0_male  x1_Europe  x1_US  x2_Firefox  x2_Opera  x2_Safari\n",
              "0        0.0      1.0        0.0    1.0         0.0       0.0        1.0\n",
              "1        1.0      0.0        1.0    0.0         1.0       0.0        0.0\n",
              "2        0.0      1.0        1.0    0.0         0.0       1.0        0.0"
            ]
          },
          "metadata": {
            "tags": []
          },
          "execution_count": 62
        }
      ]
    },
    {
      "cell_type": "markdown",
      "metadata": {
        "id": "cnXYicf44vYp"
      },
      "source": [
        "It is also possible to encode each column into  $n - 1$ columns instead of $n$ columns by using the drop parameter (also called *dummy encoding*). This is useful to avoid co-linearity in the input matrix in some classifiers. Such functionality is useful, for example, when using non-regularized regression, since co-linearity would cause the covariance matrix to be non-invertible."
      ]
    },
    {
      "cell_type": "markdown",
      "metadata": {
        "id": "indHWizd4vYp"
      },
      "source": [
        "You can read about some advanced technics [here](https://www.analyticsvidhya.com/blog/2020/08/types-of-categorical-data-encoding). However, most of them equivalent to one hot encoding to some degree.\n"
      ]
    },
    {
      "cell_type": "markdown",
      "metadata": {
        "id": "h39PQ5MD4vYp"
      },
      "source": [
        "# Feature Selection"
      ]
    },
    {
      "cell_type": "markdown",
      "metadata": {
        "id": "__6QTs-l4vYp"
      },
      "source": [
        "Why is it sometimes necessary to select just subset of features and not all at once? The idea of removing features may seem a little counterintuitive, but there is some import motivation here:\n",
        "\n",
        "1) First is more connected to engeneering side: the more data, the higher the computational complexity. Removing some unimportant and noisy features can help a lot here.    \n",
        "2) The second reason is related to algorithms side: some models can be unstable when data have highly correlated features ([multicolinearity](https://datascience.stackexchange.com/questions/24452/in-supervised-learning-why-is-it-bad-to-have-correlated-features)), some --- when data is noisy. "
      ]
    },
    {
      "cell_type": "code",
      "metadata": {
        "id": "9tj7QWlN4vYp",
        "colab": {
          "base_uri": "https://localhost:8080/",
          "height": 455
        },
        "outputId": "786a0429-7e1b-4deb-8516-cdf28d52dd31"
      },
      "source": [
        "cancer_sklearn = load_breast_cancer(as_frame=True)\n",
        "cancer_data, cancer_labels = cancer_sklearn['data'], cancer_sklearn['target']\n",
        "cancer_data_scaled = StandardScaler().fit_transform(cancer_data)\n",
        "cancer_data"
      ],
      "execution_count": 66,
      "outputs": [
        {
          "output_type": "execute_result",
          "data": {
            "text/html": [
              "<div>\n",
              "<style scoped>\n",
              "    .dataframe tbody tr th:only-of-type {\n",
              "        vertical-align: middle;\n",
              "    }\n",
              "\n",
              "    .dataframe tbody tr th {\n",
              "        vertical-align: top;\n",
              "    }\n",
              "\n",
              "    .dataframe thead th {\n",
              "        text-align: right;\n",
              "    }\n",
              "</style>\n",
              "<table border=\"1\" class=\"dataframe\">\n",
              "  <thead>\n",
              "    <tr style=\"text-align: right;\">\n",
              "      <th></th>\n",
              "      <th>mean radius</th>\n",
              "      <th>mean texture</th>\n",
              "      <th>mean perimeter</th>\n",
              "      <th>mean area</th>\n",
              "      <th>mean smoothness</th>\n",
              "      <th>mean compactness</th>\n",
              "      <th>mean concavity</th>\n",
              "      <th>mean concave points</th>\n",
              "      <th>mean symmetry</th>\n",
              "      <th>mean fractal dimension</th>\n",
              "      <th>radius error</th>\n",
              "      <th>texture error</th>\n",
              "      <th>perimeter error</th>\n",
              "      <th>area error</th>\n",
              "      <th>smoothness error</th>\n",
              "      <th>compactness error</th>\n",
              "      <th>concavity error</th>\n",
              "      <th>concave points error</th>\n",
              "      <th>symmetry error</th>\n",
              "      <th>fractal dimension error</th>\n",
              "      <th>worst radius</th>\n",
              "      <th>worst texture</th>\n",
              "      <th>worst perimeter</th>\n",
              "      <th>worst area</th>\n",
              "      <th>worst smoothness</th>\n",
              "      <th>worst compactness</th>\n",
              "      <th>worst concavity</th>\n",
              "      <th>worst concave points</th>\n",
              "      <th>worst symmetry</th>\n",
              "      <th>worst fractal dimension</th>\n",
              "    </tr>\n",
              "  </thead>\n",
              "  <tbody>\n",
              "    <tr>\n",
              "      <th>0</th>\n",
              "      <td>17.99</td>\n",
              "      <td>10.38</td>\n",
              "      <td>122.80</td>\n",
              "      <td>1001.0</td>\n",
              "      <td>0.11840</td>\n",
              "      <td>0.27760</td>\n",
              "      <td>0.30010</td>\n",
              "      <td>0.14710</td>\n",
              "      <td>0.2419</td>\n",
              "      <td>0.07871</td>\n",
              "      <td>1.0950</td>\n",
              "      <td>0.9053</td>\n",
              "      <td>8.589</td>\n",
              "      <td>153.40</td>\n",
              "      <td>0.006399</td>\n",
              "      <td>0.04904</td>\n",
              "      <td>0.05373</td>\n",
              "      <td>0.01587</td>\n",
              "      <td>0.03003</td>\n",
              "      <td>0.006193</td>\n",
              "      <td>25.380</td>\n",
              "      <td>17.33</td>\n",
              "      <td>184.60</td>\n",
              "      <td>2019.0</td>\n",
              "      <td>0.16220</td>\n",
              "      <td>0.66560</td>\n",
              "      <td>0.7119</td>\n",
              "      <td>0.2654</td>\n",
              "      <td>0.4601</td>\n",
              "      <td>0.11890</td>\n",
              "    </tr>\n",
              "    <tr>\n",
              "      <th>1</th>\n",
              "      <td>20.57</td>\n",
              "      <td>17.77</td>\n",
              "      <td>132.90</td>\n",
              "      <td>1326.0</td>\n",
              "      <td>0.08474</td>\n",
              "      <td>0.07864</td>\n",
              "      <td>0.08690</td>\n",
              "      <td>0.07017</td>\n",
              "      <td>0.1812</td>\n",
              "      <td>0.05667</td>\n",
              "      <td>0.5435</td>\n",
              "      <td>0.7339</td>\n",
              "      <td>3.398</td>\n",
              "      <td>74.08</td>\n",
              "      <td>0.005225</td>\n",
              "      <td>0.01308</td>\n",
              "      <td>0.01860</td>\n",
              "      <td>0.01340</td>\n",
              "      <td>0.01389</td>\n",
              "      <td>0.003532</td>\n",
              "      <td>24.990</td>\n",
              "      <td>23.41</td>\n",
              "      <td>158.80</td>\n",
              "      <td>1956.0</td>\n",
              "      <td>0.12380</td>\n",
              "      <td>0.18660</td>\n",
              "      <td>0.2416</td>\n",
              "      <td>0.1860</td>\n",
              "      <td>0.2750</td>\n",
              "      <td>0.08902</td>\n",
              "    </tr>\n",
              "    <tr>\n",
              "      <th>2</th>\n",
              "      <td>19.69</td>\n",
              "      <td>21.25</td>\n",
              "      <td>130.00</td>\n",
              "      <td>1203.0</td>\n",
              "      <td>0.10960</td>\n",
              "      <td>0.15990</td>\n",
              "      <td>0.19740</td>\n",
              "      <td>0.12790</td>\n",
              "      <td>0.2069</td>\n",
              "      <td>0.05999</td>\n",
              "      <td>0.7456</td>\n",
              "      <td>0.7869</td>\n",
              "      <td>4.585</td>\n",
              "      <td>94.03</td>\n",
              "      <td>0.006150</td>\n",
              "      <td>0.04006</td>\n",
              "      <td>0.03832</td>\n",
              "      <td>0.02058</td>\n",
              "      <td>0.02250</td>\n",
              "      <td>0.004571</td>\n",
              "      <td>23.570</td>\n",
              "      <td>25.53</td>\n",
              "      <td>152.50</td>\n",
              "      <td>1709.0</td>\n",
              "      <td>0.14440</td>\n",
              "      <td>0.42450</td>\n",
              "      <td>0.4504</td>\n",
              "      <td>0.2430</td>\n",
              "      <td>0.3613</td>\n",
              "      <td>0.08758</td>\n",
              "    </tr>\n",
              "    <tr>\n",
              "      <th>3</th>\n",
              "      <td>11.42</td>\n",
              "      <td>20.38</td>\n",
              "      <td>77.58</td>\n",
              "      <td>386.1</td>\n",
              "      <td>0.14250</td>\n",
              "      <td>0.28390</td>\n",
              "      <td>0.24140</td>\n",
              "      <td>0.10520</td>\n",
              "      <td>0.2597</td>\n",
              "      <td>0.09744</td>\n",
              "      <td>0.4956</td>\n",
              "      <td>1.1560</td>\n",
              "      <td>3.445</td>\n",
              "      <td>27.23</td>\n",
              "      <td>0.009110</td>\n",
              "      <td>0.07458</td>\n",
              "      <td>0.05661</td>\n",
              "      <td>0.01867</td>\n",
              "      <td>0.05963</td>\n",
              "      <td>0.009208</td>\n",
              "      <td>14.910</td>\n",
              "      <td>26.50</td>\n",
              "      <td>98.87</td>\n",
              "      <td>567.7</td>\n",
              "      <td>0.20980</td>\n",
              "      <td>0.86630</td>\n",
              "      <td>0.6869</td>\n",
              "      <td>0.2575</td>\n",
              "      <td>0.6638</td>\n",
              "      <td>0.17300</td>\n",
              "    </tr>\n",
              "    <tr>\n",
              "      <th>4</th>\n",
              "      <td>20.29</td>\n",
              "      <td>14.34</td>\n",
              "      <td>135.10</td>\n",
              "      <td>1297.0</td>\n",
              "      <td>0.10030</td>\n",
              "      <td>0.13280</td>\n",
              "      <td>0.19800</td>\n",
              "      <td>0.10430</td>\n",
              "      <td>0.1809</td>\n",
              "      <td>0.05883</td>\n",
              "      <td>0.7572</td>\n",
              "      <td>0.7813</td>\n",
              "      <td>5.438</td>\n",
              "      <td>94.44</td>\n",
              "      <td>0.011490</td>\n",
              "      <td>0.02461</td>\n",
              "      <td>0.05688</td>\n",
              "      <td>0.01885</td>\n",
              "      <td>0.01756</td>\n",
              "      <td>0.005115</td>\n",
              "      <td>22.540</td>\n",
              "      <td>16.67</td>\n",
              "      <td>152.20</td>\n",
              "      <td>1575.0</td>\n",
              "      <td>0.13740</td>\n",
              "      <td>0.20500</td>\n",
              "      <td>0.4000</td>\n",
              "      <td>0.1625</td>\n",
              "      <td>0.2364</td>\n",
              "      <td>0.07678</td>\n",
              "    </tr>\n",
              "    <tr>\n",
              "      <th>...</th>\n",
              "      <td>...</td>\n",
              "      <td>...</td>\n",
              "      <td>...</td>\n",
              "      <td>...</td>\n",
              "      <td>...</td>\n",
              "      <td>...</td>\n",
              "      <td>...</td>\n",
              "      <td>...</td>\n",
              "      <td>...</td>\n",
              "      <td>...</td>\n",
              "      <td>...</td>\n",
              "      <td>...</td>\n",
              "      <td>...</td>\n",
              "      <td>...</td>\n",
              "      <td>...</td>\n",
              "      <td>...</td>\n",
              "      <td>...</td>\n",
              "      <td>...</td>\n",
              "      <td>...</td>\n",
              "      <td>...</td>\n",
              "      <td>...</td>\n",
              "      <td>...</td>\n",
              "      <td>...</td>\n",
              "      <td>...</td>\n",
              "      <td>...</td>\n",
              "      <td>...</td>\n",
              "      <td>...</td>\n",
              "      <td>...</td>\n",
              "      <td>...</td>\n",
              "      <td>...</td>\n",
              "    </tr>\n",
              "    <tr>\n",
              "      <th>564</th>\n",
              "      <td>21.56</td>\n",
              "      <td>22.39</td>\n",
              "      <td>142.00</td>\n",
              "      <td>1479.0</td>\n",
              "      <td>0.11100</td>\n",
              "      <td>0.11590</td>\n",
              "      <td>0.24390</td>\n",
              "      <td>0.13890</td>\n",
              "      <td>0.1726</td>\n",
              "      <td>0.05623</td>\n",
              "      <td>1.1760</td>\n",
              "      <td>1.2560</td>\n",
              "      <td>7.673</td>\n",
              "      <td>158.70</td>\n",
              "      <td>0.010300</td>\n",
              "      <td>0.02891</td>\n",
              "      <td>0.05198</td>\n",
              "      <td>0.02454</td>\n",
              "      <td>0.01114</td>\n",
              "      <td>0.004239</td>\n",
              "      <td>25.450</td>\n",
              "      <td>26.40</td>\n",
              "      <td>166.10</td>\n",
              "      <td>2027.0</td>\n",
              "      <td>0.14100</td>\n",
              "      <td>0.21130</td>\n",
              "      <td>0.4107</td>\n",
              "      <td>0.2216</td>\n",
              "      <td>0.2060</td>\n",
              "      <td>0.07115</td>\n",
              "    </tr>\n",
              "    <tr>\n",
              "      <th>565</th>\n",
              "      <td>20.13</td>\n",
              "      <td>28.25</td>\n",
              "      <td>131.20</td>\n",
              "      <td>1261.0</td>\n",
              "      <td>0.09780</td>\n",
              "      <td>0.10340</td>\n",
              "      <td>0.14400</td>\n",
              "      <td>0.09791</td>\n",
              "      <td>0.1752</td>\n",
              "      <td>0.05533</td>\n",
              "      <td>0.7655</td>\n",
              "      <td>2.4630</td>\n",
              "      <td>5.203</td>\n",
              "      <td>99.04</td>\n",
              "      <td>0.005769</td>\n",
              "      <td>0.02423</td>\n",
              "      <td>0.03950</td>\n",
              "      <td>0.01678</td>\n",
              "      <td>0.01898</td>\n",
              "      <td>0.002498</td>\n",
              "      <td>23.690</td>\n",
              "      <td>38.25</td>\n",
              "      <td>155.00</td>\n",
              "      <td>1731.0</td>\n",
              "      <td>0.11660</td>\n",
              "      <td>0.19220</td>\n",
              "      <td>0.3215</td>\n",
              "      <td>0.1628</td>\n",
              "      <td>0.2572</td>\n",
              "      <td>0.06637</td>\n",
              "    </tr>\n",
              "    <tr>\n",
              "      <th>566</th>\n",
              "      <td>16.60</td>\n",
              "      <td>28.08</td>\n",
              "      <td>108.30</td>\n",
              "      <td>858.1</td>\n",
              "      <td>0.08455</td>\n",
              "      <td>0.10230</td>\n",
              "      <td>0.09251</td>\n",
              "      <td>0.05302</td>\n",
              "      <td>0.1590</td>\n",
              "      <td>0.05648</td>\n",
              "      <td>0.4564</td>\n",
              "      <td>1.0750</td>\n",
              "      <td>3.425</td>\n",
              "      <td>48.55</td>\n",
              "      <td>0.005903</td>\n",
              "      <td>0.03731</td>\n",
              "      <td>0.04730</td>\n",
              "      <td>0.01557</td>\n",
              "      <td>0.01318</td>\n",
              "      <td>0.003892</td>\n",
              "      <td>18.980</td>\n",
              "      <td>34.12</td>\n",
              "      <td>126.70</td>\n",
              "      <td>1124.0</td>\n",
              "      <td>0.11390</td>\n",
              "      <td>0.30940</td>\n",
              "      <td>0.3403</td>\n",
              "      <td>0.1418</td>\n",
              "      <td>0.2218</td>\n",
              "      <td>0.07820</td>\n",
              "    </tr>\n",
              "    <tr>\n",
              "      <th>567</th>\n",
              "      <td>20.60</td>\n",
              "      <td>29.33</td>\n",
              "      <td>140.10</td>\n",
              "      <td>1265.0</td>\n",
              "      <td>0.11780</td>\n",
              "      <td>0.27700</td>\n",
              "      <td>0.35140</td>\n",
              "      <td>0.15200</td>\n",
              "      <td>0.2397</td>\n",
              "      <td>0.07016</td>\n",
              "      <td>0.7260</td>\n",
              "      <td>1.5950</td>\n",
              "      <td>5.772</td>\n",
              "      <td>86.22</td>\n",
              "      <td>0.006522</td>\n",
              "      <td>0.06158</td>\n",
              "      <td>0.07117</td>\n",
              "      <td>0.01664</td>\n",
              "      <td>0.02324</td>\n",
              "      <td>0.006185</td>\n",
              "      <td>25.740</td>\n",
              "      <td>39.42</td>\n",
              "      <td>184.60</td>\n",
              "      <td>1821.0</td>\n",
              "      <td>0.16500</td>\n",
              "      <td>0.86810</td>\n",
              "      <td>0.9387</td>\n",
              "      <td>0.2650</td>\n",
              "      <td>0.4087</td>\n",
              "      <td>0.12400</td>\n",
              "    </tr>\n",
              "    <tr>\n",
              "      <th>568</th>\n",
              "      <td>7.76</td>\n",
              "      <td>24.54</td>\n",
              "      <td>47.92</td>\n",
              "      <td>181.0</td>\n",
              "      <td>0.05263</td>\n",
              "      <td>0.04362</td>\n",
              "      <td>0.00000</td>\n",
              "      <td>0.00000</td>\n",
              "      <td>0.1587</td>\n",
              "      <td>0.05884</td>\n",
              "      <td>0.3857</td>\n",
              "      <td>1.4280</td>\n",
              "      <td>2.548</td>\n",
              "      <td>19.15</td>\n",
              "      <td>0.007189</td>\n",
              "      <td>0.00466</td>\n",
              "      <td>0.00000</td>\n",
              "      <td>0.00000</td>\n",
              "      <td>0.02676</td>\n",
              "      <td>0.002783</td>\n",
              "      <td>9.456</td>\n",
              "      <td>30.37</td>\n",
              "      <td>59.16</td>\n",
              "      <td>268.6</td>\n",
              "      <td>0.08996</td>\n",
              "      <td>0.06444</td>\n",
              "      <td>0.0000</td>\n",
              "      <td>0.0000</td>\n",
              "      <td>0.2871</td>\n",
              "      <td>0.07039</td>\n",
              "    </tr>\n",
              "  </tbody>\n",
              "</table>\n",
              "<p>569 rows × 30 columns</p>\n",
              "</div>"
            ],
            "text/plain": [
              "     mean radius  mean texture  ...  worst symmetry  worst fractal dimension\n",
              "0          17.99         10.38  ...          0.4601                  0.11890\n",
              "1          20.57         17.77  ...          0.2750                  0.08902\n",
              "2          19.69         21.25  ...          0.3613                  0.08758\n",
              "3          11.42         20.38  ...          0.6638                  0.17300\n",
              "4          20.29         14.34  ...          0.2364                  0.07678\n",
              "..           ...           ...  ...             ...                      ...\n",
              "564        21.56         22.39  ...          0.2060                  0.07115\n",
              "565        20.13         28.25  ...          0.2572                  0.06637\n",
              "566        16.60         28.08  ...          0.2218                  0.07820\n",
              "567        20.60         29.33  ...          0.4087                  0.12400\n",
              "568         7.76         24.54  ...          0.2871                  0.07039\n",
              "\n",
              "[569 rows x 30 columns]"
            ]
          },
          "metadata": {
            "tags": []
          },
          "execution_count": 66
        }
      ]
    },
    {
      "cell_type": "markdown",
      "metadata": {
        "id": "ZBgbnTXq4vYq"
      },
      "source": [
        "## Statistical Approaches"
      ]
    },
    {
      "cell_type": "markdown",
      "metadata": {
        "id": "a4grEyWC4vYq"
      },
      "source": [
        "The most obvious candidate for removal is a feature whose value remains unchanged, i.e., it contains no information at all. If we build on this thought, it is reasonable to say that features with low variance are worse than those with high variance. So, one can consider cutting features with variance below a certain threshold."
      ]
    },
    {
      "cell_type": "code",
      "metadata": {
        "id": "Yn5cZg4e4vYq",
        "colab": {
          "base_uri": "https://localhost:8080/"
        },
        "outputId": "a68e7b3d-291d-46fe-e993-997c2dfdfa6f"
      },
      "source": [
        "X_generated, y_generated = make_classification(n_samples=1000, n_features=25, n_informative=3,\n",
        "                                                         n_redundant=2, n_repeated=0)\n",
        "X_generated.shape"
      ],
      "execution_count": 67,
      "outputs": [
        {
          "output_type": "execute_result",
          "data": {
            "text/plain": [
              "(1000, 25)"
            ]
          },
          "metadata": {
            "tags": []
          },
          "execution_count": 67
        }
      ]
    },
    {
      "cell_type": "code",
      "metadata": {
        "id": "xsnyq5m34vYq",
        "colab": {
          "base_uri": "https://localhost:8080/"
        },
        "outputId": "d05fe1fb-e7e6-459a-b124-a8c1e69e67f9"
      },
      "source": [
        "print(VarianceThreshold(0.9).fit_transform(X_generated).shape)\n",
        "print(VarianceThreshold(1).fit_transform(X_generated).shape)\n",
        "print(VarianceThreshold(1.1).fit_transform(X_generated).shape)"
      ],
      "execution_count": 68,
      "outputs": [
        {
          "output_type": "stream",
          "text": [
            "(1000, 24)\n",
            "(1000, 14)\n",
            "(1000, 5)\n"
          ],
          "name": "stdout"
        }
      ]
    },
    {
      "cell_type": "markdown",
      "metadata": {
        "id": "lw_jlMKT4vYq"
      },
      "source": [
        "Keep in mind that we are using absolute value as threshold, so in real world scenario it is necessary to bring all the features to same scale (perform scaling before thresholding).\n",
        "\n",
        "Personally, I won't recommend using `VarianceTreshold` unless you are completely sure that it's needed and won't make things worse: the low variance does not necessarily mean that feature is not informative. You can also try [other](https://scikit-learn.org/stable/modules/feature_selection.html#univariate-feature-selection) a little bit more advanced statistical approaches."
      ]
    },
    {
      "cell_type": "markdown",
      "metadata": {
        "id": "7HHPj7RJ4vYr"
      },
      "source": [
        "## Selection From Modeling\n"
      ]
    },
    {
      "cell_type": "markdown",
      "metadata": {
        "id": "C4QSqwnO4vYr"
      },
      "source": [
        "Basically, the idea is to use some model as an feature importance estimator: for example, we can use linear model with `Lasso` regularization (and feature weights from it) or some tree based models (which have natural ability to compute feature importance). Then, based on received importance/weights we can choose some threshold and take features, that have importance above this value."
      ]
    },
    {
      "cell_type": "code",
      "metadata": {
        "id": "sv0fKsmL4vYr",
        "colab": {
          "base_uri": "https://localhost:8080/"
        },
        "outputId": "aebc23f2-791e-4b4b-8fa9-a608a5f2395a"
      },
      "source": [
        "selection_model = RandomForestClassifier(random_state=42)\n",
        "selector = SelectFromModel(selection_model).fit(cancer_data, cancer_labels)\n",
        "cancer_data_pruned = selector.transform(cancer_data)\n",
        "\n",
        "print(cancer_data.columns[selector.get_support()])\n",
        "print(f'Original shape: {cancer_data.shape}')\n",
        "print(f'Shape after selection: {cancer_data_pruned.shape}')"
      ],
      "execution_count": 69,
      "outputs": [
        {
          "output_type": "stream",
          "text": [
            "Index(['mean radius', 'mean perimeter', 'mean area', 'mean concavity',\n",
            "       'mean concave points', 'worst radius', 'worst perimeter', 'worst area',\n",
            "       'worst concavity', 'worst concave points'],\n",
            "      dtype='object')\n",
            "Original shape: (569, 30)\n",
            "Shape after selection: (569, 10)\n"
          ],
          "name": "stdout"
        }
      ]
    },
    {
      "cell_type": "code",
      "metadata": {
        "colab": {
          "base_uri": "https://localhost:8080/"
        },
        "id": "NuV2Df27eo-K",
        "outputId": "55897aba-92c6-46fa-e5a1-5f384daa4b41"
      },
      "source": [
        "# just experimenting with n_estimators in the RF model\n",
        "selection_model = RandomForestClassifier(n_estimators = 25, random_state=42)\n",
        "selector = SelectFromModel(selection_model).fit(cancer_data, cancer_labels)\n",
        "cancer_data_pruned = selector.transform(cancer_data)\n",
        "\n",
        "print(cancer_data.columns[selector.get_support()])\n",
        "print(f'Original shape: {cancer_data.shape}')\n",
        "print(f'Shape after selection: {cancer_data_pruned.shape}')"
      ],
      "execution_count": 70,
      "outputs": [
        {
          "output_type": "stream",
          "text": [
            "Index(['mean radius', 'mean perimeter', 'mean area', 'mean concavity',\n",
            "       'mean concave points', 'area error', 'worst radius', 'worst perimeter',\n",
            "       'worst compactness', 'worst concavity', 'worst concave points'],\n",
            "      dtype='object')\n",
            "Original shape: (569, 30)\n",
            "Shape after selection: (569, 11)\n"
          ],
          "name": "stdout"
        }
      ]
    },
    {
      "cell_type": "code",
      "metadata": {
        "colab": {
          "base_uri": "https://localhost:8080/"
        },
        "id": "yeuoWlD8gViq",
        "outputId": "62badd2c-7520-451b-f363-0f3a175c7372"
      },
      "source": [
        "#pip install catboost"
      ],
      "execution_count": 74,
      "outputs": [
        {
          "output_type": "stream",
          "text": [
            "Collecting catboost\n",
            "\u001b[?25l  Downloading https://files.pythonhosted.org/packages/20/37/bc4e0ddc30c07a96482abf1de7ed1ca54e59bba2026a33bca6d2ef286e5b/catboost-0.24.4-cp36-none-manylinux1_x86_64.whl (65.7MB)\n",
            "\u001b[K     |████████████████████████████████| 65.8MB 102kB/s \n",
            "\u001b[?25hRequirement already satisfied: pandas>=0.24.0 in /usr/local/lib/python3.6/dist-packages (from catboost) (1.1.5)\n",
            "Requirement already satisfied: scipy in /usr/local/lib/python3.6/dist-packages (from catboost) (1.4.1)\n",
            "Requirement already satisfied: six in /usr/local/lib/python3.6/dist-packages (from catboost) (1.15.0)\n",
            "Requirement already satisfied: graphviz in /usr/local/lib/python3.6/dist-packages (from catboost) (0.10.1)\n",
            "Requirement already satisfied: plotly in /usr/local/lib/python3.6/dist-packages (from catboost) (4.4.1)\n",
            "Requirement already satisfied: numpy>=1.16.0 in /usr/local/lib/python3.6/dist-packages (from catboost) (1.19.5)\n",
            "Requirement already satisfied: matplotlib in /usr/local/lib/python3.6/dist-packages (from catboost) (3.2.2)\n",
            "Requirement already satisfied: python-dateutil>=2.7.3 in /usr/local/lib/python3.6/dist-packages (from pandas>=0.24.0->catboost) (2.8.1)\n",
            "Requirement already satisfied: pytz>=2017.2 in /usr/local/lib/python3.6/dist-packages (from pandas>=0.24.0->catboost) (2018.9)\n",
            "Requirement already satisfied: retrying>=1.3.3 in /usr/local/lib/python3.6/dist-packages (from plotly->catboost) (1.3.3)\n",
            "Requirement already satisfied: cycler>=0.10 in /usr/local/lib/python3.6/dist-packages (from matplotlib->catboost) (0.10.0)\n",
            "Requirement already satisfied: pyparsing!=2.0.4,!=2.1.2,!=2.1.6,>=2.0.1 in /usr/local/lib/python3.6/dist-packages (from matplotlib->catboost) (2.4.7)\n",
            "Requirement already satisfied: kiwisolver>=1.0.1 in /usr/local/lib/python3.6/dist-packages (from matplotlib->catboost) (1.3.1)\n",
            "Installing collected packages: catboost\n",
            "Successfully installed catboost-0.24.4\n"
          ],
          "name": "stdout"
        }
      ]
    },
    {
      "cell_type": "code",
      "metadata": {
        "colab": {
          "base_uri": "https://localhost:8080/"
        },
        "id": "CYcd0x_kfo6m",
        "outputId": "1fded203-aa31-429b-958b-1f715022b0ff"
      },
      "source": [
        "# Checking with CatBoost\n",
        "from catboost import CatBoostClassifier\n",
        "\n",
        "\n",
        "selection_model = CatBoostClassifier(task_type = 'CPU', early_stopping_rounds = 10, \n",
        "                                     random_state=42,verbose=0)\n",
        "\n",
        "selector = SelectFromModel(selection_model).fit(cancer_data, cancer_labels)\n",
        "cancer_data_pruned = selector.transform(cancer_data)\n",
        "\n",
        "print(cancer_data.columns[selector.get_support()])\n",
        "print(f'Original shape: {cancer_data.shape}')\n",
        "print(f'Shape after selection: {cancer_data_pruned.shape}')"
      ],
      "execution_count": 81,
      "outputs": [
        {
          "output_type": "stream",
          "text": [
            "Index(['mean texture', 'mean concave points', 'area error', 'worst radius',\n",
            "       'worst texture', 'worst perimeter', 'worst area', 'worst smoothness',\n",
            "       'worst concavity', 'worst concave points'],\n",
            "      dtype='object')\n",
            "Original shape: (569, 30)\n",
            "Shape after selection: (569, 10)\n"
          ],
          "name": "stdout"
        }
      ]
    },
    {
      "cell_type": "code",
      "metadata": {
        "id": "-oZE8ZXGgOqL"
      },
      "source": [
        ""
      ],
      "execution_count": null,
      "outputs": []
    },
    {
      "cell_type": "code",
      "metadata": {
        "id": "46Aya_2f4vYr",
        "colab": {
          "base_uri": "https://localhost:8080/"
        },
        "outputId": "6d1176f2-a2e8-43ed-ccb9-747dc7056e92"
      },
      "source": [
        "main_model = LogisticRegression(solver='liblinear', penalty='l1')\n",
        "pipe_baseline = make_pipeline(StandardScaler(), main_model)\n",
        "pipe_selection = make_pipeline(StandardScaler(), SelectFromModel(selection_model), main_model) # fix to select only once\n",
        "\n",
        "print('Result on original data: {:f}'.format(cross_val_score(pipe_baseline, cancer_data, cancer_labels, \n",
        "                      scoring='accuracy', cv=5).mean()))\n",
        "\n",
        "print('Result after selection {:f}'.format(cross_val_score(pipe_selection, cancer_data, cancer_labels, \n",
        "                      scoring='accuracy', cv=5).mean()))"
      ],
      "execution_count": 82,
      "outputs": [
        {
          "output_type": "stream",
          "text": [
            "Result on original data: 0.970160\n",
            "Result after selection 0.966620\n"
          ],
          "name": "stdout"
        }
      ]
    },
    {
      "cell_type": "markdown",
      "metadata": {
        "id": "xoixtQA_4vYr"
      },
      "source": [
        "**Note from the original notebook.** We were able to reduce the number of features significantly, but, as you can see, stable performance is not guaranteed. \n",
        "\n",
        "**My Note.** After using CatBoost as a Model Selection param and the model for training itself - the results are quite promising."
      ]
    },
    {
      "cell_type": "markdown",
      "metadata": {
        "id": "Uuf7oKre4vYr"
      },
      "source": [
        "It's also possible to use same model as an importance estimator and actual classifier (regressor).\n",
        "As a development of this approach we can consider recursive feature elimination: first, the model is trained on the initial set of features and the importance of each feature is obtained. Then, the least important features are pruned from current set of features. That procedure is recursively repeated on the pruned set until the desired number of features to select is eventually reached."
      ]
    },
    {
      "cell_type": "code",
      "metadata": {
        "id": "yOgOCrRb4vYr",
        "colab": {
          "base_uri": "https://localhost:8080/"
        },
        "outputId": "3131460a-75c8-4d2f-ce24-af54cead4200"
      },
      "source": [
        "min_features_to_select = 1 \n",
        "rfecv = RFECV(estimator=selection_model, step=1, cv=KFold(3), \n",
        "              scoring='accuracy', min_features_to_select=min_features_to_select)\n",
        "rfecv.fit(cancer_data_scaled, cancer_labels)\n",
        "\n",
        "print(\"Optimal number of features : %d\" % rfecv.n_features_)\n"
      ],
      "execution_count": 83,
      "outputs": [
        {
          "output_type": "stream",
          "text": [
            "Optimal number of features : 14\n"
          ],
          "name": "stdout"
        }
      ]
    },
    {
      "cell_type": "code",
      "metadata": {
        "id": "FgMxPMHw4vYs",
        "colab": {
          "base_uri": "https://localhost:8080/",
          "height": 479
        },
        "outputId": "5a6aee77-ee0c-439e-db97-d86478f9c584"
      },
      "source": [
        "plt.figure(figsize=(16,8))\n",
        "plt.plot(range(min_features_to_select,\n",
        "               len(rfecv.grid_scores_) + min_features_to_select),\n",
        "         rfecv.grid_scores_)\n",
        "plt.show()"
      ],
      "execution_count": 84,
      "outputs": [
        {
          "output_type": "display_data",
          "data": {
            "image/png": "[encoded data removed]",
            "text/plain": [
              "<Figure size 1152x576 with 1 Axes>"
            ]
          },
          "metadata": {
            "tags": [],
            "image/png": {
              "width": 930,
              "height": 462
            }
          }
        }
      ]
    },
    {
      "cell_type": "markdown",
      "metadata": {
        "id": "JLFE1Gxp4vYs"
      },
      "source": [
        "## Greedy (Sequential) Feature Selection "
      ]
    },
    {
      "cell_type": "markdown",
      "metadata": {
        "id": "8qaeSP3j4vYs"
      },
      "source": [
        "Finally, we get to the most reliable method --- trivial brute force: just test all possible subsets of features (train a model on a subset of features, store results, repeat for different subsets, and compare the quality of models to identify the best feature set). This approach is called [Exhaustive Feature Selection](http://rasbt.github.io/mlxtend/user_guide/feature_selection/ExhaustiveFeatureSelector).\n",
        "\n",
        "However, usually this method is too computationally complex to use for some real word dataset (it's even not available in scikit-learn). To reduce complexity one can the following *greedy* heuristic:  tart with zero feature and find the one feature that maximizes a cross-validated score when the model is trained on this single feature. Once that first feature is selected, we repeat the procedure by adding a new feature to the set of selected features. It is possible to iterate until we hit (preselected) maximum number of features or until the quality of the model ceases to increase significantly between iterations.\n",
        "\n",
        "This algorithm can work in the opposite direction: instead of starting with no feature and greedily adding features, we start with all the features and greedily remove features from the set."
      ]
    },
    {
      "cell_type": "code",
      "metadata": {
        "id": "MiZD6jLd4vYs",
        "outputId": "752924ac-050f-48d4-cc73-fcc93a7d5048"
      },
      "source": [
        "selector = SequentialFeatureSelector(main_model, scoring='accuracy', n_jobs=-1).fit(cancer_data_scaled, cancer_labels)\n",
        "cancer_data_scaled_pruned = selector.transform(cancer_data_scaled)\n",
        "\n",
        "print(cancer_data.columns[selector.get_support()])\n",
        "print(f'Original shape: {cancer_data.shape}')\n",
        "print(f'Shape after selection: {cancer_data_pruned.shape}\\n')\n",
        "\n",
        "print('Result on original data: {:f}'.format(cross_val_score(main_model, cancer_data_scaled, \n",
        "                                                           cancer_labels, scoring='accuracy', cv=5).mean()))\n",
        "\n",
        "print('Result after selection {:f}'.format(cross_val_score(main_model, cancer_data_scaled_pruned, \n",
        "                                                        cancer_labels, scoring='accuracy', cv=5).mean()))"
      ],
      "execution_count": null,
      "outputs": [
        {
          "output_type": "stream",
          "text": [
            "Index(['mean radius', 'mean texture', 'mean perimeter', 'mean area',\n",
            "       'mean smoothness', 'mean concavity', 'mean concave points',\n",
            "       'texture error', 'smoothness error', 'concavity error',\n",
            "       'symmetry error', 'worst radius', 'worst texture', 'worst perimeter',\n",
            "       'worst smoothness'],\n",
            "      dtype='object')\n",
            "Original shape: (569, 30)\n",
            "Shape after selection: (569, 10)\n",
            "\n",
            "Result on original data: 0.975423\n",
            "Result after selection 0.980686\n"
          ],
          "name": "stdout"
        }
      ]
    },
    {
      "cell_type": "markdown",
      "metadata": {
        "id": "BfPR_5NB4vYs"
      },
      "source": [
        "# Homework"
      ]
    },
    {
      "cell_type": "markdown",
      "metadata": {
        "id": "v_t1qpNf4vYs"
      },
      "source": [
        "## Exercise  1 - Scaling (3 points)"
      ]
    },
    {
      "cell_type": "markdown",
      "metadata": {
        "id": "ryW2pT7d4vYt"
      },
      "source": [
        "Perform standardization for wine dataset (`wine_data`) using only basic python, numpy and pandas (without using `StandardScaler` and sklearn at all). Implementation of function (or class) that can get dataset as input and return standardized dataset as output is preferrable, but not necessary.\n",
        "\n",
        "Compare you results (output) with `StandardScaler`.\n",
        "\n",
        "**NOTE:**\n",
        "\n",
        "1) 1.5 points is for correct wine dataset standardization and another 1.5 points is for implementation of standardization function, that is working in more general case.\n",
        "\n",
        "2) \"General case\" doesn't mean, that you need to handle some/all really \"specific\" cases (datasets with missing/categorial variables, very large dataset, etc). Let's assume that it should work with numeric datasets of reasonable shape: showing the output for one or two randomly generated 10x10 dataset and comparing the results with `StandardScaler` should be enough (or you can be more creative).\n",
        "\n"
      ]
    },
    {
      "cell_type": "code",
      "metadata": {
        "colab": {
          "base_uri": "https://localhost:8080/",
          "height": 422
        },
        "id": "2KnHY11U8auB",
        "outputId": "8499560d-c5f4-4c85-cf37-d59cf119e12f"
      },
      "source": [
        "# loading the dataset\n",
        "wine_sklearn = load_wine(as_frame=True) # need to have sklearn => version 0.23 \n",
        "wine_data, wine_labels = wine_sklearn['data'], wine_sklearn['target']\n",
        "wine_data"
      ],
      "execution_count": 123,
      "outputs": [
        {
          "output_type": "execute_result",
          "data": {
            "text/html": [
              "<div>\n",
              "<style scoped>\n",
              "    .dataframe tbody tr th:only-of-type {\n",
              "        vertical-align: middle;\n",
              "    }\n",
              "\n",
              "    .dataframe tbody tr th {\n",
              "        vertical-align: top;\n",
              "    }\n",
              "\n",
              "    .dataframe thead th {\n",
              "        text-align: right;\n",
              "    }\n",
              "</style>\n",
              "<table border=\"1\" class=\"dataframe\">\n",
              "  <thead>\n",
              "    <tr style=\"text-align: right;\">\n",
              "      <th></th>\n",
              "      <th>alcohol</th>\n",
              "      <th>malic_acid</th>\n",
              "      <th>ash</th>\n",
              "      <th>alcalinity_of_ash</th>\n",
              "      <th>magnesium</th>\n",
              "      <th>total_phenols</th>\n",
              "      <th>flavanoids</th>\n",
              "      <th>nonflavanoid_phenols</th>\n",
              "      <th>proanthocyanins</th>\n",
              "      <th>color_intensity</th>\n",
              "      <th>hue</th>\n",
              "      <th>od280/od315_of_diluted_wines</th>\n",
              "      <th>proline</th>\n",
              "    </tr>\n",
              "  </thead>\n",
              "  <tbody>\n",
              "    <tr>\n",
              "      <th>0</th>\n",
              "      <td>14.23</td>\n",
              "      <td>1.71</td>\n",
              "      <td>2.43</td>\n",
              "      <td>15.6</td>\n",
              "      <td>127.0</td>\n",
              "      <td>2.80</td>\n",
              "      <td>3.06</td>\n",
              "      <td>0.28</td>\n",
              "      <td>2.29</td>\n",
              "      <td>5.64</td>\n",
              "      <td>1.04</td>\n",
              "      <td>3.92</td>\n",
              "      <td>1065.0</td>\n",
              "    </tr>\n",
              "    <tr>\n",
              "      <th>1</th>\n",
              "      <td>13.20</td>\n",
              "      <td>1.78</td>\n",
              "      <td>2.14</td>\n",
              "      <td>11.2</td>\n",
              "      <td>100.0</td>\n",
              "      <td>2.65</td>\n",
              "      <td>2.76</td>\n",
              "      <td>0.26</td>\n",
              "      <td>1.28</td>\n",
              "      <td>4.38</td>\n",
              "      <td>1.05</td>\n",
              "      <td>3.40</td>\n",
              "      <td>1050.0</td>\n",
              "    </tr>\n",
              "    <tr>\n",
              "      <th>2</th>\n",
              "      <td>13.16</td>\n",
              "      <td>2.36</td>\n",
              "      <td>2.67</td>\n",
              "      <td>18.6</td>\n",
              "      <td>101.0</td>\n",
              "      <td>2.80</td>\n",
              "      <td>3.24</td>\n",
              "      <td>0.30</td>\n",
              "      <td>2.81</td>\n",
              "      <td>5.68</td>\n",
              "      <td>1.03</td>\n",
              "      <td>3.17</td>\n",
              "      <td>1185.0</td>\n",
              "    </tr>\n",
              "    <tr>\n",
              "      <th>3</th>\n",
              "      <td>14.37</td>\n",
              "      <td>1.95</td>\n",
              "      <td>2.50</td>\n",
              "      <td>16.8</td>\n",
              "      <td>113.0</td>\n",
              "      <td>3.85</td>\n",
              "      <td>3.49</td>\n",
              "      <td>0.24</td>\n",
              "      <td>2.18</td>\n",
              "      <td>7.80</td>\n",
              "      <td>0.86</td>\n",
              "      <td>3.45</td>\n",
              "      <td>1480.0</td>\n",
              "    </tr>\n",
              "    <tr>\n",
              "      <th>4</th>\n",
              "      <td>13.24</td>\n",
              "      <td>2.59</td>\n",
              "      <td>2.87</td>\n",
              "      <td>21.0</td>\n",
              "      <td>118.0</td>\n",
              "      <td>2.80</td>\n",
              "      <td>2.69</td>\n",
              "      <td>0.39</td>\n",
              "      <td>1.82</td>\n",
              "      <td>4.32</td>\n",
              "      <td>1.04</td>\n",
              "      <td>2.93</td>\n",
              "      <td>735.0</td>\n",
              "    </tr>\n",
              "    <tr>\n",
              "      <th>...</th>\n",
              "      <td>...</td>\n",
              "      <td>...</td>\n",
              "      <td>...</td>\n",
              "      <td>...</td>\n",
              "      <td>...</td>\n",
              "      <td>...</td>\n",
              "      <td>...</td>\n",
              "      <td>...</td>\n",
              "      <td>...</td>\n",
              "      <td>...</td>\n",
              "      <td>...</td>\n",
              "      <td>...</td>\n",
              "      <td>...</td>\n",
              "    </tr>\n",
              "    <tr>\n",
              "      <th>173</th>\n",
              "      <td>13.71</td>\n",
              "      <td>5.65</td>\n",
              "      <td>2.45</td>\n",
              "      <td>20.5</td>\n",
              "      <td>95.0</td>\n",
              "      <td>1.68</td>\n",
              "      <td>0.61</td>\n",
              "      <td>0.52</td>\n",
              "      <td>1.06</td>\n",
              "      <td>7.70</td>\n",
              "      <td>0.64</td>\n",
              "      <td>1.74</td>\n",
              "      <td>740.0</td>\n",
              "    </tr>\n",
              "    <tr>\n",
              "      <th>174</th>\n",
              "      <td>13.40</td>\n",
              "      <td>3.91</td>\n",
              "      <td>2.48</td>\n",
              "      <td>23.0</td>\n",
              "      <td>102.0</td>\n",
              "      <td>1.80</td>\n",
              "      <td>0.75</td>\n",
              "      <td>0.43</td>\n",
              "      <td>1.41</td>\n",
              "      <td>7.30</td>\n",
              "      <td>0.70</td>\n",
              "      <td>1.56</td>\n",
              "      <td>750.0</td>\n",
              "    </tr>\n",
              "    <tr>\n",
              "      <th>175</th>\n",
              "      <td>13.27</td>\n",
              "      <td>4.28</td>\n",
              "      <td>2.26</td>\n",
              "      <td>20.0</td>\n",
              "      <td>120.0</td>\n",
              "      <td>1.59</td>\n",
              "      <td>0.69</td>\n",
              "      <td>0.43</td>\n",
              "      <td>1.35</td>\n",
              "      <td>10.20</td>\n",
              "      <td>0.59</td>\n",
              "      <td>1.56</td>\n",
              "      <td>835.0</td>\n",
              "    </tr>\n",
              "    <tr>\n",
              "      <th>176</th>\n",
              "      <td>13.17</td>\n",
              "      <td>2.59</td>\n",
              "      <td>2.37</td>\n",
              "      <td>20.0</td>\n",
              "      <td>120.0</td>\n",
              "      <td>1.65</td>\n",
              "      <td>0.68</td>\n",
              "      <td>0.53</td>\n",
              "      <td>1.46</td>\n",
              "      <td>9.30</td>\n",
              "      <td>0.60</td>\n",
              "      <td>1.62</td>\n",
              "      <td>840.0</td>\n",
              "    </tr>\n",
              "    <tr>\n",
              "      <th>177</th>\n",
              "      <td>14.13</td>\n",
              "      <td>4.10</td>\n",
              "      <td>2.74</td>\n",
              "      <td>24.5</td>\n",
              "      <td>96.0</td>\n",
              "      <td>2.05</td>\n",
              "      <td>0.76</td>\n",
              "      <td>0.56</td>\n",
              "      <td>1.35</td>\n",
              "      <td>9.20</td>\n",
              "      <td>0.61</td>\n",
              "      <td>1.60</td>\n",
              "      <td>560.0</td>\n",
              "    </tr>\n",
              "  </tbody>\n",
              "</table>\n",
              "<p>178 rows × 13 columns</p>\n",
              "</div>"
            ],
            "text/plain": [
              "     alcohol  malic_acid   ash  ...   hue  od280/od315_of_diluted_wines  proline\n",
              "0      14.23        1.71  2.43  ...  1.04                          3.92   1065.0\n",
              "1      13.20        1.78  2.14  ...  1.05                          3.40   1050.0\n",
              "2      13.16        2.36  2.67  ...  1.03                          3.17   1185.0\n",
              "3      14.37        1.95  2.50  ...  0.86                          3.45   1480.0\n",
              "4      13.24        2.59  2.87  ...  1.04                          2.93    735.0\n",
              "..       ...         ...   ...  ...   ...                           ...      ...\n",
              "173    13.71        5.65  2.45  ...  0.64                          1.74    740.0\n",
              "174    13.40        3.91  2.48  ...  0.70                          1.56    750.0\n",
              "175    13.27        4.28  2.26  ...  0.59                          1.56    835.0\n",
              "176    13.17        2.59  2.37  ...  0.60                          1.62    840.0\n",
              "177    14.13        4.10  2.74  ...  0.61                          1.60    560.0\n",
              "\n",
              "[178 rows x 13 columns]"
            ]
          },
          "metadata": {
            "tags": []
          },
          "execution_count": 123
        }
      ]
    },
    {
      "cell_type": "code",
      "metadata": {
        "colab": {
          "base_uri": "https://localhost:8080/",
          "height": 422
        },
        "id": "BYL-ycQdAc--",
        "outputId": "fde7ed81-febd-4609-bd02-9215dd15ea08"
      },
      "source": [
        "# tranforming DF so all values == float64\n",
        "wine_data.astype('float64')"
      ],
      "execution_count": 124,
      "outputs": [
        {
          "output_type": "execute_result",
          "data": {
            "text/html": [
              "<div>\n",
              "<style scoped>\n",
              "    .dataframe tbody tr th:only-of-type {\n",
              "        vertical-align: middle;\n",
              "    }\n",
              "\n",
              "    .dataframe tbody tr th {\n",
              "        vertical-align: top;\n",
              "    }\n",
              "\n",
              "    .dataframe thead th {\n",
              "        text-align: right;\n",
              "    }\n",
              "</style>\n",
              "<table border=\"1\" class=\"dataframe\">\n",
              "  <thead>\n",
              "    <tr style=\"text-align: right;\">\n",
              "      <th></th>\n",
              "      <th>alcohol</th>\n",
              "      <th>malic_acid</th>\n",
              "      <th>ash</th>\n",
              "      <th>alcalinity_of_ash</th>\n",
              "      <th>magnesium</th>\n",
              "      <th>total_phenols</th>\n",
              "      <th>flavanoids</th>\n",
              "      <th>nonflavanoid_phenols</th>\n",
              "      <th>proanthocyanins</th>\n",
              "      <th>color_intensity</th>\n",
              "      <th>hue</th>\n",
              "      <th>od280/od315_of_diluted_wines</th>\n",
              "      <th>proline</th>\n",
              "    </tr>\n",
              "  </thead>\n",
              "  <tbody>\n",
              "    <tr>\n",
              "      <th>0</th>\n",
              "      <td>14.23</td>\n",
              "      <td>1.71</td>\n",
              "      <td>2.43</td>\n",
              "      <td>15.6</td>\n",
              "      <td>127.0</td>\n",
              "      <td>2.80</td>\n",
              "      <td>3.06</td>\n",
              "      <td>0.28</td>\n",
              "      <td>2.29</td>\n",
              "      <td>5.64</td>\n",
              "      <td>1.04</td>\n",
              "      <td>3.92</td>\n",
              "      <td>1065.0</td>\n",
              "    </tr>\n",
              "    <tr>\n",
              "      <th>1</th>\n",
              "      <td>13.20</td>\n",
              "      <td>1.78</td>\n",
              "      <td>2.14</td>\n",
              "      <td>11.2</td>\n",
              "      <td>100.0</td>\n",
              "      <td>2.65</td>\n",
              "      <td>2.76</td>\n",
              "      <td>0.26</td>\n",
              "      <td>1.28</td>\n",
              "      <td>4.38</td>\n",
              "      <td>1.05</td>\n",
              "      <td>3.40</td>\n",
              "      <td>1050.0</td>\n",
              "    </tr>\n",
              "    <tr>\n",
              "      <th>2</th>\n",
              "      <td>13.16</td>\n",
              "      <td>2.36</td>\n",
              "      <td>2.67</td>\n",
              "      <td>18.6</td>\n",
              "      <td>101.0</td>\n",
              "      <td>2.80</td>\n",
              "      <td>3.24</td>\n",
              "      <td>0.30</td>\n",
              "      <td>2.81</td>\n",
              "      <td>5.68</td>\n",
              "      <td>1.03</td>\n",
              "      <td>3.17</td>\n",
              "      <td>1185.0</td>\n",
              "    </tr>\n",
              "    <tr>\n",
              "      <th>3</th>\n",
              "      <td>14.37</td>\n",
              "      <td>1.95</td>\n",
              "      <td>2.50</td>\n",
              "      <td>16.8</td>\n",
              "      <td>113.0</td>\n",
              "      <td>3.85</td>\n",
              "      <td>3.49</td>\n",
              "      <td>0.24</td>\n",
              "      <td>2.18</td>\n",
              "      <td>7.80</td>\n",
              "      <td>0.86</td>\n",
              "      <td>3.45</td>\n",
              "      <td>1480.0</td>\n",
              "    </tr>\n",
              "    <tr>\n",
              "      <th>4</th>\n",
              "      <td>13.24</td>\n",
              "      <td>2.59</td>\n",
              "      <td>2.87</td>\n",
              "      <td>21.0</td>\n",
              "      <td>118.0</td>\n",
              "      <td>2.80</td>\n",
              "      <td>2.69</td>\n",
              "      <td>0.39</td>\n",
              "      <td>1.82</td>\n",
              "      <td>4.32</td>\n",
              "      <td>1.04</td>\n",
              "      <td>2.93</td>\n",
              "      <td>735.0</td>\n",
              "    </tr>\n",
              "    <tr>\n",
              "      <th>...</th>\n",
              "      <td>...</td>\n",
              "      <td>...</td>\n",
              "      <td>...</td>\n",
              "      <td>...</td>\n",
              "      <td>...</td>\n",
              "      <td>...</td>\n",
              "      <td>...</td>\n",
              "      <td>...</td>\n",
              "      <td>...</td>\n",
              "      <td>...</td>\n",
              "      <td>...</td>\n",
              "      <td>...</td>\n",
              "      <td>...</td>\n",
              "    </tr>\n",
              "    <tr>\n",
              "      <th>173</th>\n",
              "      <td>13.71</td>\n",
              "      <td>5.65</td>\n",
              "      <td>2.45</td>\n",
              "      <td>20.5</td>\n",
              "      <td>95.0</td>\n",
              "      <td>1.68</td>\n",
              "      <td>0.61</td>\n",
              "      <td>0.52</td>\n",
              "      <td>1.06</td>\n",
              "      <td>7.70</td>\n",
              "      <td>0.64</td>\n",
              "      <td>1.74</td>\n",
              "      <td>740.0</td>\n",
              "    </tr>\n",
              "    <tr>\n",
              "      <th>174</th>\n",
              "      <td>13.40</td>\n",
              "      <td>3.91</td>\n",
              "      <td>2.48</td>\n",
              "      <td>23.0</td>\n",
              "      <td>102.0</td>\n",
              "      <td>1.80</td>\n",
              "      <td>0.75</td>\n",
              "      <td>0.43</td>\n",
              "      <td>1.41</td>\n",
              "      <td>7.30</td>\n",
              "      <td>0.70</td>\n",
              "      <td>1.56</td>\n",
              "      <td>750.0</td>\n",
              "    </tr>\n",
              "    <tr>\n",
              "      <th>175</th>\n",
              "      <td>13.27</td>\n",
              "      <td>4.28</td>\n",
              "      <td>2.26</td>\n",
              "      <td>20.0</td>\n",
              "      <td>120.0</td>\n",
              "      <td>1.59</td>\n",
              "      <td>0.69</td>\n",
              "      <td>0.43</td>\n",
              "      <td>1.35</td>\n",
              "      <td>10.20</td>\n",
              "      <td>0.59</td>\n",
              "      <td>1.56</td>\n",
              "      <td>835.0</td>\n",
              "    </tr>\n",
              "    <tr>\n",
              "      <th>176</th>\n",
              "      <td>13.17</td>\n",
              "      <td>2.59</td>\n",
              "      <td>2.37</td>\n",
              "      <td>20.0</td>\n",
              "      <td>120.0</td>\n",
              "      <td>1.65</td>\n",
              "      <td>0.68</td>\n",
              "      <td>0.53</td>\n",
              "      <td>1.46</td>\n",
              "      <td>9.30</td>\n",
              "      <td>0.60</td>\n",
              "      <td>1.62</td>\n",
              "      <td>840.0</td>\n",
              "    </tr>\n",
              "    <tr>\n",
              "      <th>177</th>\n",
              "      <td>14.13</td>\n",
              "      <td>4.10</td>\n",
              "      <td>2.74</td>\n",
              "      <td>24.5</td>\n",
              "      <td>96.0</td>\n",
              "      <td>2.05</td>\n",
              "      <td>0.76</td>\n",
              "      <td>0.56</td>\n",
              "      <td>1.35</td>\n",
              "      <td>9.20</td>\n",
              "      <td>0.61</td>\n",
              "      <td>1.60</td>\n",
              "      <td>560.0</td>\n",
              "    </tr>\n",
              "  </tbody>\n",
              "</table>\n",
              "<p>178 rows × 13 columns</p>\n",
              "</div>"
            ],
            "text/plain": [
              "     alcohol  malic_acid   ash  ...   hue  od280/od315_of_diluted_wines  proline\n",
              "0      14.23        1.71  2.43  ...  1.04                          3.92   1065.0\n",
              "1      13.20        1.78  2.14  ...  1.05                          3.40   1050.0\n",
              "2      13.16        2.36  2.67  ...  1.03                          3.17   1185.0\n",
              "3      14.37        1.95  2.50  ...  0.86                          3.45   1480.0\n",
              "4      13.24        2.59  2.87  ...  1.04                          2.93    735.0\n",
              "..       ...         ...   ...  ...   ...                           ...      ...\n",
              "173    13.71        5.65  2.45  ...  0.64                          1.74    740.0\n",
              "174    13.40        3.91  2.48  ...  0.70                          1.56    750.0\n",
              "175    13.27        4.28  2.26  ...  0.59                          1.56    835.0\n",
              "176    13.17        2.59  2.37  ...  0.60                          1.62    840.0\n",
              "177    14.13        4.10  2.74  ...  0.61                          1.60    560.0\n",
              "\n",
              "[178 rows x 13 columns]"
            ]
          },
          "metadata": {
            "tags": []
          },
          "execution_count": 124
        }
      ]
    },
    {
      "cell_type": "code",
      "metadata": {
        "colab": {
          "base_uri": "https://localhost:8080/"
        },
        "id": "p6qh7UA4BENg",
        "outputId": "fbf66e06-dd34-4256-c316-e462ba510e81"
      },
      "source": [
        "wine_data.info()"
      ],
      "execution_count": 125,
      "outputs": [
        {
          "output_type": "stream",
          "text": [
            "<class 'pandas.core.frame.DataFrame'>\n",
            "RangeIndex: 178 entries, 0 to 177\n",
            "Data columns (total 13 columns):\n",
            " #   Column                        Non-Null Count  Dtype  \n",
            "---  ------                        --------------  -----  \n",
            " 0   alcohol                       178 non-null    float64\n",
            " 1   malic_acid                    178 non-null    float64\n",
            " 2   ash                           178 non-null    float64\n",
            " 3   alcalinity_of_ash             178 non-null    float64\n",
            " 4   magnesium                     178 non-null    float64\n",
            " 5   total_phenols                 178 non-null    float64\n",
            " 6   flavanoids                    178 non-null    float64\n",
            " 7   nonflavanoid_phenols          178 non-null    float64\n",
            " 8   proanthocyanins               178 non-null    float64\n",
            " 9   color_intensity               178 non-null    float64\n",
            " 10  hue                           178 non-null    float64\n",
            " 11  od280/od315_of_diluted_wines  178 non-null    float64\n",
            " 12  proline                       178 non-null    float64\n",
            "dtypes: float64(13)\n",
            "memory usage: 18.2 KB\n"
          ],
          "name": "stdout"
        }
      ]
    },
    {
      "cell_type": "code",
      "metadata": {
        "id": "_fGwOn0T4vYt"
      },
      "source": [
        "## your code\n",
        "\n",
        "# stadartization of the data \n",
        "custom_scaled_data = (wine_data - np.mean(wine_data, axis=0)) / np.std(wine_data, axis=0)"
      ],
      "execution_count": 126,
      "outputs": []
    },
    {
      "cell_type": "code",
      "metadata": {
        "colab": {
          "base_uri": "https://localhost:8080/",
          "height": 422
        },
        "id": "LDLgdwiPAnYU",
        "outputId": "314bd7c3-9fd4-4971-b3cb-37544b6d3e32"
      },
      "source": [
        "custom_scaled_data"
      ],
      "execution_count": 127,
      "outputs": [
        {
          "output_type": "execute_result",
          "data": {
            "text/html": [
              "<div>\n",
              "<style scoped>\n",
              "    .dataframe tbody tr th:only-of-type {\n",
              "        vertical-align: middle;\n",
              "    }\n",
              "\n",
              "    .dataframe tbody tr th {\n",
              "        vertical-align: top;\n",
              "    }\n",
              "\n",
              "    .dataframe thead th {\n",
              "        text-align: right;\n",
              "    }\n",
              "</style>\n",
              "<table border=\"1\" class=\"dataframe\">\n",
              "  <thead>\n",
              "    <tr style=\"text-align: right;\">\n",
              "      <th></th>\n",
              "      <th>alcohol</th>\n",
              "      <th>malic_acid</th>\n",
              "      <th>ash</th>\n",
              "      <th>alcalinity_of_ash</th>\n",
              "      <th>magnesium</th>\n",
              "      <th>total_phenols</th>\n",
              "      <th>flavanoids</th>\n",
              "      <th>nonflavanoid_phenols</th>\n",
              "      <th>proanthocyanins</th>\n",
              "      <th>color_intensity</th>\n",
              "      <th>hue</th>\n",
              "      <th>od280/od315_of_diluted_wines</th>\n",
              "      <th>proline</th>\n",
              "    </tr>\n",
              "  </thead>\n",
              "  <tbody>\n",
              "    <tr>\n",
              "      <th>0</th>\n",
              "      <td>1.518613</td>\n",
              "      <td>-0.562250</td>\n",
              "      <td>0.232053</td>\n",
              "      <td>-1.169593</td>\n",
              "      <td>1.913905</td>\n",
              "      <td>0.808997</td>\n",
              "      <td>1.034819</td>\n",
              "      <td>-0.659563</td>\n",
              "      <td>1.224884</td>\n",
              "      <td>0.251717</td>\n",
              "      <td>0.362177</td>\n",
              "      <td>1.847920</td>\n",
              "      <td>1.013009</td>\n",
              "    </tr>\n",
              "    <tr>\n",
              "      <th>1</th>\n",
              "      <td>0.246290</td>\n",
              "      <td>-0.499413</td>\n",
              "      <td>-0.827996</td>\n",
              "      <td>-2.490847</td>\n",
              "      <td>0.018145</td>\n",
              "      <td>0.568648</td>\n",
              "      <td>0.733629</td>\n",
              "      <td>-0.820719</td>\n",
              "      <td>-0.544721</td>\n",
              "      <td>-0.293321</td>\n",
              "      <td>0.406051</td>\n",
              "      <td>1.113449</td>\n",
              "      <td>0.965242</td>\n",
              "    </tr>\n",
              "    <tr>\n",
              "      <th>2</th>\n",
              "      <td>0.196879</td>\n",
              "      <td>0.021231</td>\n",
              "      <td>1.109334</td>\n",
              "      <td>-0.268738</td>\n",
              "      <td>0.088358</td>\n",
              "      <td>0.808997</td>\n",
              "      <td>1.215533</td>\n",
              "      <td>-0.498407</td>\n",
              "      <td>2.135968</td>\n",
              "      <td>0.269020</td>\n",
              "      <td>0.318304</td>\n",
              "      <td>0.788587</td>\n",
              "      <td>1.395148</td>\n",
              "    </tr>\n",
              "    <tr>\n",
              "      <th>3</th>\n",
              "      <td>1.691550</td>\n",
              "      <td>-0.346811</td>\n",
              "      <td>0.487926</td>\n",
              "      <td>-0.809251</td>\n",
              "      <td>0.930918</td>\n",
              "      <td>2.491446</td>\n",
              "      <td>1.466525</td>\n",
              "      <td>-0.981875</td>\n",
              "      <td>1.032155</td>\n",
              "      <td>1.186068</td>\n",
              "      <td>-0.427544</td>\n",
              "      <td>1.184071</td>\n",
              "      <td>2.334574</td>\n",
              "    </tr>\n",
              "    <tr>\n",
              "      <th>4</th>\n",
              "      <td>0.295700</td>\n",
              "      <td>0.227694</td>\n",
              "      <td>1.840403</td>\n",
              "      <td>0.451946</td>\n",
              "      <td>1.281985</td>\n",
              "      <td>0.808997</td>\n",
              "      <td>0.663351</td>\n",
              "      <td>0.226796</td>\n",
              "      <td>0.401404</td>\n",
              "      <td>-0.319276</td>\n",
              "      <td>0.362177</td>\n",
              "      <td>0.449601</td>\n",
              "      <td>-0.037874</td>\n",
              "    </tr>\n",
              "    <tr>\n",
              "      <th>...</th>\n",
              "      <td>...</td>\n",
              "      <td>...</td>\n",
              "      <td>...</td>\n",
              "      <td>...</td>\n",
              "      <td>...</td>\n",
              "      <td>...</td>\n",
              "      <td>...</td>\n",
              "      <td>...</td>\n",
              "      <td>...</td>\n",
              "      <td>...</td>\n",
              "      <td>...</td>\n",
              "      <td>...</td>\n",
              "      <td>...</td>\n",
              "    </tr>\n",
              "    <tr>\n",
              "      <th>173</th>\n",
              "      <td>0.876275</td>\n",
              "      <td>2.974543</td>\n",
              "      <td>0.305159</td>\n",
              "      <td>0.301803</td>\n",
              "      <td>-0.332922</td>\n",
              "      <td>-0.985614</td>\n",
              "      <td>-1.424900</td>\n",
              "      <td>1.274310</td>\n",
              "      <td>-0.930179</td>\n",
              "      <td>1.142811</td>\n",
              "      <td>-1.392758</td>\n",
              "      <td>-1.231206</td>\n",
              "      <td>-0.021952</td>\n",
              "    </tr>\n",
              "    <tr>\n",
              "      <th>174</th>\n",
              "      <td>0.493343</td>\n",
              "      <td>1.412609</td>\n",
              "      <td>0.414820</td>\n",
              "      <td>1.052516</td>\n",
              "      <td>0.158572</td>\n",
              "      <td>-0.793334</td>\n",
              "      <td>-1.284344</td>\n",
              "      <td>0.549108</td>\n",
              "      <td>-0.316950</td>\n",
              "      <td>0.969783</td>\n",
              "      <td>-1.129518</td>\n",
              "      <td>-1.485445</td>\n",
              "      <td>0.009893</td>\n",
              "    </tr>\n",
              "    <tr>\n",
              "      <th>175</th>\n",
              "      <td>0.332758</td>\n",
              "      <td>1.744744</td>\n",
              "      <td>-0.389355</td>\n",
              "      <td>0.151661</td>\n",
              "      <td>1.422412</td>\n",
              "      <td>-1.129824</td>\n",
              "      <td>-1.344582</td>\n",
              "      <td>0.549108</td>\n",
              "      <td>-0.422075</td>\n",
              "      <td>2.224236</td>\n",
              "      <td>-1.612125</td>\n",
              "      <td>-1.485445</td>\n",
              "      <td>0.280575</td>\n",
              "    </tr>\n",
              "    <tr>\n",
              "      <th>176</th>\n",
              "      <td>0.209232</td>\n",
              "      <td>0.227694</td>\n",
              "      <td>0.012732</td>\n",
              "      <td>0.151661</td>\n",
              "      <td>1.422412</td>\n",
              "      <td>-1.033684</td>\n",
              "      <td>-1.354622</td>\n",
              "      <td>1.354888</td>\n",
              "      <td>-0.229346</td>\n",
              "      <td>1.834923</td>\n",
              "      <td>-1.568252</td>\n",
              "      <td>-1.400699</td>\n",
              "      <td>0.296498</td>\n",
              "    </tr>\n",
              "    <tr>\n",
              "      <th>177</th>\n",
              "      <td>1.395086</td>\n",
              "      <td>1.583165</td>\n",
              "      <td>1.365208</td>\n",
              "      <td>1.502943</td>\n",
              "      <td>-0.262708</td>\n",
              "      <td>-0.392751</td>\n",
              "      <td>-1.274305</td>\n",
              "      <td>1.596623</td>\n",
              "      <td>-0.422075</td>\n",
              "      <td>1.791666</td>\n",
              "      <td>-1.524378</td>\n",
              "      <td>-1.428948</td>\n",
              "      <td>-0.595160</td>\n",
              "    </tr>\n",
              "  </tbody>\n",
              "</table>\n",
              "<p>178 rows × 13 columns</p>\n",
              "</div>"
            ],
            "text/plain": [
              "      alcohol  malic_acid  ...  od280/od315_of_diluted_wines   proline\n",
              "0    1.518613   -0.562250  ...                      1.847920  1.013009\n",
              "1    0.246290   -0.499413  ...                      1.113449  0.965242\n",
              "2    0.196879    0.021231  ...                      0.788587  1.395148\n",
              "3    1.691550   -0.346811  ...                      1.184071  2.334574\n",
              "4    0.295700    0.227694  ...                      0.449601 -0.037874\n",
              "..        ...         ...  ...                           ...       ...\n",
              "173  0.876275    2.974543  ...                     -1.231206 -0.021952\n",
              "174  0.493343    1.412609  ...                     -1.485445  0.009893\n",
              "175  0.332758    1.744744  ...                     -1.485445  0.280575\n",
              "176  0.209232    0.227694  ...                     -1.400699  0.296498\n",
              "177  1.395086    1.583165  ...                     -1.428948 -0.595160\n",
              "\n",
              "[178 rows x 13 columns]"
            ]
          },
          "metadata": {
            "tags": []
          },
          "execution_count": 127
        }
      ]
    },
    {
      "cell_type": "code",
      "metadata": {
        "colab": {
          "base_uri": "https://localhost:8080/"
        },
        "id": "Ca08J76tF620",
        "outputId": "c7fae50a-59db-443f-824d-3f04ed9c213e"
      },
      "source": [
        "# Transforming Pandas DF to Numpy array\n",
        "custom_scaled_data = np.asarray(custom_scaled_data)\n",
        "custom_scaled_data"
      ],
      "execution_count": 136,
      "outputs": [
        {
          "output_type": "execute_result",
          "data": {
            "text/plain": [
              "array([[ 1.51861254, -0.5622498 ,  0.23205254, ...,  0.36217728,\n",
              "         1.84791957,  1.01300893],\n",
              "       [ 0.24628963, -0.49941338, -0.82799632, ...,  0.40605066,\n",
              "         1.1134493 ,  0.96524152],\n",
              "       [ 0.19687903,  0.02123125,  1.10933436, ...,  0.31830389,\n",
              "         0.78858745,  1.39514818],\n",
              "       ...,\n",
              "       [ 0.33275817,  1.74474449, -0.38935541, ..., -1.61212515,\n",
              "        -1.48544548,  0.28057537],\n",
              "       [ 0.20923168,  0.22769377,  0.01273209, ..., -1.56825176,\n",
              "        -1.40069891,  0.29649784],\n",
              "       [ 1.39508604,  1.58316512,  1.36520822, ..., -1.52437837,\n",
              "        -1.42894777, -0.59516041]])"
            ]
          },
          "metadata": {
            "tags": []
          },
          "execution_count": 136
        }
      ]
    },
    {
      "cell_type": "code",
      "metadata": {
        "colab": {
          "base_uri": "https://localhost:8080/"
        },
        "id": "A7-ITUVvD2u6",
        "outputId": "61ebeb8b-8ecc-42f2-fdc5-aa6c6cdc4445"
      },
      "source": [
        "# Comapring with StandardScaler\n",
        "\n",
        "# loading the dataset\n",
        "wine_sklearn = load_wine(as_frame=True) # need to have sklearn => version 0.23 \n",
        "wine_data, wine_labels = wine_sklearn['data'], wine_sklearn['target']\n",
        "wine_data.astype('float64')\n",
        "\n",
        "# intializing the StandardScaler\n",
        "sc = StandardScaler()\n",
        "sc_scaled_data = sc.fit_transform(wine_data)\n",
        "sc_scaled_data"
      ],
      "execution_count": 128,
      "outputs": [
        {
          "output_type": "execute_result",
          "data": {
            "text/plain": [
              "array([[ 1.51861254, -0.5622498 ,  0.23205254, ...,  0.36217728,\n",
              "         1.84791957,  1.01300893],\n",
              "       [ 0.24628963, -0.49941338, -0.82799632, ...,  0.40605066,\n",
              "         1.1134493 ,  0.96524152],\n",
              "       [ 0.19687903,  0.02123125,  1.10933436, ...,  0.31830389,\n",
              "         0.78858745,  1.39514818],\n",
              "       ...,\n",
              "       [ 0.33275817,  1.74474449, -0.38935541, ..., -1.61212515,\n",
              "        -1.48544548,  0.28057537],\n",
              "       [ 0.20923168,  0.22769377,  0.01273209, ..., -1.56825176,\n",
              "        -1.40069891,  0.29649784],\n",
              "       [ 1.39508604,  1.58316512,  1.36520822, ..., -1.52437837,\n",
              "        -1.42894777, -0.59516041]])"
            ]
          },
          "metadata": {
            "tags": []
          },
          "execution_count": 128
        }
      ]
    },
    {
      "cell_type": "code",
      "metadata": {
        "colab": {
          "base_uri": "https://localhost:8080/"
        },
        "id": "2_Q21iL3FU_O",
        "outputId": "d1304ed9-6fa3-4368-e9da-70618990e3fb"
      },
      "source": [
        "# Checking the shape \n",
        "custom_scaled_data.shape, sc_scaled_data.shape"
      ],
      "execution_count": 137,
      "outputs": [
        {
          "output_type": "execute_result",
          "data": {
            "text/plain": [
              "((178, 13), (178, 13))"
            ]
          },
          "metadata": {
            "tags": []
          },
          "execution_count": 137
        }
      ]
    },
    {
      "cell_type": "code",
      "metadata": {
        "colab": {
          "base_uri": "https://localhost:8080/"
        },
        "id": "chGJ9dvXF1w5",
        "outputId": "163a26d2-12a8-4b09-ae71-1ea6f62c3d8f"
      },
      "source": [
        "# Checking the type \n",
        "type(custom_scaled_data), type(sc_scaled_data)"
      ],
      "execution_count": 138,
      "outputs": [
        {
          "output_type": "execute_result",
          "data": {
            "text/plain": [
              "(numpy.ndarray, numpy.ndarray)"
            ]
          },
          "metadata": {
            "tags": []
          },
          "execution_count": 138
        }
      ]
    },
    {
      "cell_type": "code",
      "metadata": {
        "colab": {
          "base_uri": "https://localhost:8080/"
        },
        "id": "ujFglh6DGfbK",
        "outputId": "5c2a8d4b-6a4a-444d-f463-ccc6d4eeca2f"
      },
      "source": [
        "# A brief comparison between two scaled datasets\n",
        "custom_scaled_data == sc_scaled_data"
      ],
      "execution_count": 149,
      "outputs": [
        {
          "output_type": "execute_result",
          "data": {
            "text/plain": [
              "array([[False, False, False, ..., False, False, False],\n",
              "       [False, False, False, ..., False, False, False],\n",
              "       [False, False, False, ..., False, False, False],\n",
              "       ...,\n",
              "       [False,  True, False, ..., False, False, False],\n",
              "       [False, False, False, ..., False, False, False],\n",
              "       [False, False, False, ..., False, False, False]])"
            ]
          },
          "metadata": {
            "tags": []
          },
          "execution_count": 149
        }
      ]
    },
    {
      "cell_type": "code",
      "metadata": {
        "colab": {
          "base_uri": "https://localhost:8080/",
          "height": 550
        },
        "id": "hbQkV5VsG5vY",
        "outputId": "056083b5-5985-4486-9104-7131a05ace19"
      },
      "source": [
        "# Viz of custom_scaled_data\n",
        "plt.hist(custom_scaled_data)"
      ],
      "execution_count": 150,
      "outputs": [
        {
          "output_type": "execute_result",
          "data": {
            "text/plain": [
              "(array([[ 0.,  1., 18., 45., 43., 48., 21.,  2.,  0.,  0.],\n",
              "        [ 0.,  0.,  4., 82., 39., 24., 20.,  6.,  3.,  0.],\n",
              "        [ 1.,  4., 15., 31., 66., 40., 18.,  1.,  2.,  0.],\n",
              "        [ 0.,  5.,  9., 39., 63., 40., 17.,  4.,  1.,  0.],\n",
              "        [ 0.,  1.,  9., 55., 59., 33., 14.,  5.,  0.,  2.],\n",
              "        [ 0.,  1., 21., 47., 37., 53., 16.,  3.,  0.,  0.],\n",
              "        [ 0.,  0., 31., 31., 41., 54., 20.,  0.,  1.,  0.],\n",
              "        [ 0.,  0., 12., 63., 42., 33., 20.,  8.,  0.,  0.],\n",
              "        [ 0.,  0., 19., 34., 64., 39., 13.,  7.,  2.,  0.],\n",
              "        [ 0.,  0., 10., 60., 57., 28., 14.,  7.,  2.,  0.],\n",
              "        [ 0.,  1., 23., 30., 49., 49., 23.,  2.,  1.,  0.],\n",
              "        [ 0.,  0., 30., 29., 40., 59., 19.,  1.,  0.,  0.],\n",
              "        [ 0.,  0.,  8., 63., 52., 28., 20.,  6.,  1.,  0.]]),\n",
              " array([-3.67916223, -2.8741088 , -2.06905536, -1.26400192, -0.45894848,\n",
              "         0.34610495,  1.15115839,  1.95621183,  2.76126526,  3.5663187 ,\n",
              "         4.37137214]),\n",
              " <a list of 13 Lists of Patches objects>)"
            ]
          },
          "metadata": {
            "tags": []
          },
          "execution_count": 150
        },
        {
          "output_type": "display_data",
          "data": {
            "image/png": "[encoded data removed]",
            "text/plain": [
              "<Figure size 432x288 with 1 Axes>"
            ]
          },
          "metadata": {
            "tags": [],
            "image/png": {
              "width": 369,
              "height": 248
            },
            "needs_background": "light"
          }
        }
      ]
    },
    {
      "cell_type": "code",
      "metadata": {
        "colab": {
          "base_uri": "https://localhost:8080/",
          "height": 550
        },
        "id": "075f3jXnG9T3",
        "outputId": "0fa9d6ea-c9e2-4d97-a3b9-f91f67467acb"
      },
      "source": [
        "# Viz of sc_scaled_data\n",
        "plt.hist(sc_scaled_data)"
      ],
      "execution_count": 151,
      "outputs": [
        {
          "output_type": "execute_result",
          "data": {
            "text/plain": [
              "(array([[ 0.,  1., 18., 45., 43., 48., 21.,  2.,  0.,  0.],\n",
              "        [ 0.,  0.,  4., 82., 39., 24., 20.,  6.,  3.,  0.],\n",
              "        [ 1.,  4., 15., 31., 66., 40., 18.,  1.,  2.,  0.],\n",
              "        [ 0.,  5.,  9., 39., 63., 40., 17.,  4.,  1.,  0.],\n",
              "        [ 0.,  1.,  9., 55., 59., 33., 14.,  5.,  0.,  2.],\n",
              "        [ 0.,  1., 21., 47., 37., 53., 16.,  3.,  0.,  0.],\n",
              "        [ 0.,  0., 31., 31., 41., 54., 20.,  0.,  1.,  0.],\n",
              "        [ 0.,  0., 12., 63., 42., 33., 20.,  8.,  0.,  0.],\n",
              "        [ 0.,  0., 19., 34., 64., 39., 13.,  7.,  2.,  0.],\n",
              "        [ 0.,  0., 10., 60., 57., 28., 14.,  7.,  2.,  0.],\n",
              "        [ 0.,  1., 23., 30., 49., 49., 23.,  2.,  1.,  0.],\n",
              "        [ 0.,  0., 30., 29., 40., 59., 19.,  1.,  0.,  0.],\n",
              "        [ 0.,  0.,  8., 63., 52., 28., 20.,  6.,  1.,  0.]]),\n",
              " array([-3.67916223, -2.8741088 , -2.06905536, -1.26400192, -0.45894848,\n",
              "         0.34610495,  1.15115839,  1.95621183,  2.76126526,  3.5663187 ,\n",
              "         4.37137214]),\n",
              " <a list of 13 Lists of Patches objects>)"
            ]
          },
          "metadata": {
            "tags": []
          },
          "execution_count": 151
        },
        {
          "output_type": "display_data",
          "data": {
            "image/png": "[encoded data removed]",
            "text/plain": [
              "<Figure size 432x288 with 1 Axes>"
            ]
          },
          "metadata": {
            "tags": [],
            "image/png": {
              "width": 369,
              "height": 248
            },
            "needs_background": "light"
          }
        }
      ]
    },
    {
      "cell_type": "markdown",
      "metadata": {
        "id": "9oDa4f5W4vYt"
      },
      "source": [
        "## Exercise  2 - Visualization (4 points)"
      ]
    },
    {
      "cell_type": "markdown",
      "metadata": {
        "id": "AWLrfl_h4vYt"
      },
      "source": [
        "As noted earlier, standardization/normalization of data can be crucial for some distance-based ML methods.\n",
        "\n",
        "Let’s generate some toy example of unnormalized data and visualize the importance of this process once more:"
      ]
    },
    {
      "cell_type": "code",
      "metadata": {
        "id": "XykR_N8S4vYt",
        "colab": {
          "base_uri": "https://localhost:8080/"
        },
        "outputId": "7675dfd8-15b2-48df-d4c1-6e82b739986f"
      },
      "source": [
        "feature_0 = np.random.randn(1000) * 10   \n",
        "feature_1 = np.concatenate([np.random.randn(500), np.random.randn(500) + 5])\n",
        "data = np.column_stack([feature_0, feature_1])\n",
        "data "
      ],
      "execution_count": 81,
      "outputs": [
        {
          "output_type": "execute_result",
          "data": {
            "text/plain": [
              "array([[-1.7794632 , -1.66995524],\n",
              "       [ 8.13261746,  1.79591802],\n",
              "       [ 0.48664572,  1.41658547],\n",
              "       ...,\n",
              "       [-0.9413198 ,  7.44167087],\n",
              "       [16.63925835,  4.41300126],\n",
              "       [12.45770637,  5.31980553]])"
            ]
          },
          "metadata": {
            "tags": []
          },
          "execution_count": 81
        }
      ]
    },
    {
      "cell_type": "code",
      "metadata": {
        "id": "m_3Hhi9Y4vYt",
        "colab": {
          "base_uri": "https://localhost:8080/",
          "height": 276
        },
        "outputId": "e375246a-6905-44b5-b192-eadc3e6b033e"
      },
      "source": [
        "plot_scatter(data[:, 0], data[:, 1], auto_scaled=True, title='Data (different axes units!)')"
      ],
      "execution_count": 154,
      "outputs": [
        {
          "output_type": "display_data",
          "data": {
            "image/png": "[encoded data removed]",
            "text/plain": [
              "<Figure size 288x288 with 1 Axes>"
            ]
          },
          "metadata": {
            "tags": [],
            "image/png": {
              "width": 252,
              "height": 259
            }
          }
        }
      ]
    },
    {
      "cell_type": "markdown",
      "metadata": {
        "id": "dgaNkqF64vYt"
      },
      "source": [
        "**NOTE:** on the plot above axes are scaled differently and we can clearly see two potential *classes/clusters*. In fact `matplotlib` performed `autoscaling` (which is basically can be considered as `MinMaxScaling` of original data) just for better visualization purposes.\n",
        "\n",
        "Let's turn this feature off and visualize the original data on the plot with equally scaled axes:"
      ]
    },
    {
      "cell_type": "code",
      "metadata": {
        "id": "eLxWqc8T4vYu",
        "outputId": "0f96773e-cec6-47fc-95fb-0105bd604d64"
      },
      "source": [
        "plot_scatter(data[:, 0], data[:, 1], auto_scaled=False , title='Data (equal axes units!)')"
      ],
      "execution_count": null,
      "outputs": [
        {
          "output_type": "display_data",
          "data": {
            "image/png": "[encoded data removed]",
            "text/plain": [
              "<Figure size 288x288 with 1 Axes>"
            ]
          },
          "metadata": {
            "tags": []
          }
        }
      ]
    },
    {
      "cell_type": "markdown",
      "metadata": {
        "id": "qkFIt_0b4vYu"
      },
      "source": [
        "This picture is clearly less interpretable, but much closer to \"how distance-based algorithm see the original data\": separability of data is hardly noticable only because the variation (std) of x-feature is much bigger in absolute numbers."
      ]
    },
    {
      "cell_type": "markdown",
      "metadata": {
        "id": "YiYDUPmr4vYu"
      },
      "source": [
        "Perform `StandardScaling` and `MinMaxScaling` of original data; visualize results for each case (**use `plot_scatter` with `auto_scaled=False`**):"
      ]
    },
    {
      "cell_type": "markdown",
      "metadata": {
        "id": "b4ogjjhF4vYu"
      },
      "source": [
        "### MinMaxScaling (1 point)"
      ]
    },
    {
      "cell_type": "code",
      "metadata": {
        "id": "-ABsLNAf4vYu"
      },
      "source": [
        "from sklearn.preprocessing import MinMaxScaler\n",
        "\n",
        "# loading the dataset\n",
        "feature_0 = np.random.randn(1000) * 10   \n",
        "feature_1 = np.concatenate([np.random.randn(500), np.random.randn(500) + 5])\n",
        "data = np.column_stack([feature_0, feature_1])\n",
        "\n",
        "# initializing the scaler \n",
        "sc = MinMaxScaler()\n",
        "\n",
        "# fit tranform the dataset \n",
        "minmax_scaled_data= sc.fit_transform(data)"
      ],
      "execution_count": 91,
      "outputs": []
    },
    {
      "cell_type": "code",
      "metadata": {
        "colab": {
          "base_uri": "https://localhost:8080/"
        },
        "id": "EVdv4sxL-PnB",
        "outputId": "3f98a542-bec0-4cb5-8e3e-f9a93c94e760"
      },
      "source": [
        "minmax_scaled_data"
      ],
      "execution_count": 92,
      "outputs": [
        {
          "output_type": "execute_result",
          "data": {
            "text/plain": [
              "array([[0.4553139 , 0.30750827],\n",
              "       [0.42469855, 0.23486579],\n",
              "       [0.5752762 , 0.29142332],\n",
              "       ...,\n",
              "       [0.47530851, 0.74495115],\n",
              "       [0.53782586, 0.74353657],\n",
              "       [0.52910355, 0.55046217]])"
            ]
          },
          "metadata": {
            "tags": []
          },
          "execution_count": 92
        }
      ]
    },
    {
      "cell_type": "code",
      "metadata": {
        "colab": {
          "base_uri": "https://localhost:8080/",
          "height": 276
        },
        "id": "BhaEW_WQ-dVV",
        "outputId": "fc3432c5-4b07-4688-ea1f-7cbe9595649a"
      },
      "source": [
        "plot_scatter(minmax_scaled_data[:, 0], minmax_scaled_data[:, 1], \n",
        "             auto_scaled=False, title='Data (equal axes units!)')"
      ],
      "execution_count": 155,
      "outputs": [
        {
          "output_type": "display_data",
          "data": {
            "image/png": "[encoded data removed]",
            "text/plain": [
              "<Figure size 288x288 with 1 Axes>"
            ]
          },
          "metadata": {
            "tags": [],
            "image/png": {
              "width": 249,
              "height": 259
            }
          }
        }
      ]
    },
    {
      "cell_type": "markdown",
      "metadata": {
        "id": "3cDg9EZI4vYu"
      },
      "source": [
        "### StandardScaler (1 point)"
      ]
    },
    {
      "cell_type": "code",
      "metadata": {
        "id": "jVck1XVf4vYv"
      },
      "source": [
        "from sklearn.preprocessing import StandardScaler\n",
        "\n",
        "# loading the dataset\n",
        "feature_0 = np.random.randn(1000) * 10   \n",
        "feature_1 = np.concatenate([np.random.randn(500), np.random.randn(500) + 5])\n",
        "data = np.column_stack([feature_0, feature_1])\n",
        "\n",
        "# initializing the scaler \n",
        "sc = StandardScaler()\n",
        "\n",
        "# fit tranform the dataset \n",
        "sc_scaled_data= sc.fit_transform(data)"
      ],
      "execution_count": 156,
      "outputs": []
    },
    {
      "cell_type": "code",
      "metadata": {
        "colab": {
          "base_uri": "https://localhost:8080/"
        },
        "id": "f-10h6jEIYWu",
        "outputId": "9f4df18a-35c7-4ff8-ab68-8a77d16c67d8"
      },
      "source": [
        "sc_scaled_data"
      ],
      "execution_count": 157,
      "outputs": [
        {
          "output_type": "execute_result",
          "data": {
            "text/plain": [
              "array([[-1.25516023, -1.36924291],\n",
              "       [ 0.21394045, -0.43018124],\n",
              "       [ 0.86645718, -0.9618285 ],\n",
              "       ...,\n",
              "       [ 0.99695686,  0.20523397],\n",
              "       [-0.41815883,  1.06373522],\n",
              "       [ 1.0236265 ,  0.97090244]])"
            ]
          },
          "metadata": {
            "tags": []
          },
          "execution_count": 157
        }
      ]
    },
    {
      "cell_type": "code",
      "metadata": {
        "colab": {
          "base_uri": "https://localhost:8080/",
          "height": 276
        },
        "id": "ePx9a-S7IZu1",
        "outputId": "d683dd09-0bf3-4167-8e71-18d26aa69dfa"
      },
      "source": [
        "plot_scatter(sc_scaled_data[:, 0], sc_scaled_data[:, 1], \n",
        "             auto_scaled=False, title='Data (equal axes units!)')"
      ],
      "execution_count": 158,
      "outputs": [
        {
          "output_type": "display_data",
          "data": {
            "image/png": "[encoded data removed]",
            "text/plain": [
              "<Figure size 288x288 with 1 Axes>"
            ]
          },
          "metadata": {
            "tags": [],
            "image/png": {
              "width": 246,
              "height": 259
            }
          }
        }
      ]
    },
    {
      "cell_type": "markdown",
      "metadata": {
        "id": "e6q_2GlK4vYv"
      },
      "source": [
        "### (Bonus) K-means (2 points)"
      ]
    },
    {
      "cell_type": "markdown",
      "metadata": {
        "id": "UkWHHJed4vYv"
      },
      "source": [
        "Illustrate the impact of scaling on basic distance-based clustering algorithm [K-means](https://towardsdatascience.com/understanding-k-means-clustering-in-machine-learning-6a6e67336aa1) using `data` generated above.\n",
        "\n",
        "**NOTE:** basically, you don't need understanding K-means algorithm here, you just need to:\n",
        "\n",
        "1) run algorithm (with k=2, k - number of clusters/classes) on unscaled data    \n",
        "2) run algorithm (with k=2) on scaled data    \n",
        "3) plot results: highlight different clusters using different colors.\n",
        "\n",
        "You can use this [question](https://stats.stackexchange.com/questions/89809/is-it-important-to-scale-data-before-clustering/89813) as a hint, but I recommend you to plot results using `plot_scatter` with `equal_scaled=True`: it might help you to intuitively understand the reasons of such scaling impact.\n"
      ]
    },
    {
      "cell_type": "code",
      "metadata": {
        "colab": {
          "base_uri": "https://localhost:8080/"
        },
        "id": "YHUoWBQ9NN33",
        "outputId": "2aaa6172-336d-437a-b556-7641d41ab314"
      },
      "source": [
        "from sklearn.cluster import KMeans\n",
        "\n",
        "# loading the dataset\n",
        "feature_0 = np.random.randn(1000) * 10   \n",
        "feature_1 = np.concatenate([np.random.randn(500), np.random.randn(500) + 5])\n",
        "data = np.column_stack([feature_0, feature_1])\n",
        "\n",
        "# model initialization \n",
        "model = KMeans(n_clusters=2)\n",
        "\n",
        "# fitting the model\n",
        "model.fit(data)"
      ],
      "execution_count": 160,
      "outputs": [
        {
          "output_type": "execute_result",
          "data": {
            "text/plain": [
              "KMeans(n_clusters=2)"
            ]
          },
          "metadata": {
            "tags": []
          },
          "execution_count": 160
        }
      ]
    },
    {
      "cell_type": "code",
      "metadata": {
        "colab": {
          "base_uri": "https://localhost:8080/"
        },
        "id": "wkqYth_iPJEK",
        "outputId": "a91d0e59-17d2-4487-cfdf-c9a27d40cf4b"
      },
      "source": [
        "# Checking the centroids \n",
        "model.cluster_centers_"
      ],
      "execution_count": 163,
      "outputs": [
        {
          "output_type": "execute_result",
          "data": {
            "text/plain": [
              "array([[ 8.8514448 ,  2.61812787],\n",
              "       [-7.09463549,  2.35871101]])"
            ]
          },
          "metadata": {
            "tags": []
          },
          "execution_count": 163
        }
      ]
    },
    {
      "cell_type": "code",
      "metadata": {
        "colab": {
          "base_uri": "https://localhost:8080/",
          "height": 261
        },
        "id": "CS-Ji6NIPVMu",
        "outputId": "4bc688fa-c59c-4d84-dc96-abf8159e3de8"
      },
      "source": [
        "# Viz - 1\n",
        "plt.scatter(data[ : , 0], data[ : , 1], s =50, c='b')\n",
        "plt.scatter(8.8514448, 2.61812787, s=200, c='g', marker='s')\n",
        "plt.scatter(-7.09463549, 2.35871101, s=200, c='r', marker='s')\n",
        "plt.show()"
      ],
      "execution_count": 166,
      "outputs": [
        {
          "output_type": "display_data",
          "data": {
            "image/png": "[encoded data removed]",
            "text/plain": [
              "<Figure size 432x288 with 1 Axes>"
            ]
          },
          "metadata": {
            "tags": [],
            "image/png": {
              "width": 364,
              "height": 244
            }
          }
        }
      ]
    },
    {
      "cell_type": "code",
      "metadata": {
        "colab": {
          "base_uri": "https://localhost:8080/",
          "height": 276
        },
        "id": "-4XLkXl6P5Qg",
        "outputId": "637429f0-38b4-4b79-9d4b-384c685ed0c1"
      },
      "source": [
        "# Viz - 2\n",
        "plot_scatter(data[:, 0], data[:, 1], auto_scaled=True , title='Data (equal axes units!)')"
      ],
      "execution_count": 168,
      "outputs": [
        {
          "output_type": "display_data",
          "data": {
            "image/png": "[encoded data removed]",
            "text/plain": [
              "<Figure size 288x288 with 1 Axes>"
            ]
          },
          "metadata": {
            "tags": [],
            "image/png": {
              "width": 252,
              "height": 259
            }
          }
        }
      ]
    },
    {
      "cell_type": "code",
      "metadata": {
        "id": "302NE0D44vYv",
        "colab": {
          "base_uri": "https://localhost:8080/"
        },
        "outputId": "d50c1658-4698-48d7-a3b2-526855d4e80c"
      },
      "source": [
        "## scaled example\n",
        "\n",
        "from sklearn.preprocessing import StandardScaler\n",
        "\n",
        "# loading the dataset\n",
        "feature_0 = np.random.randn(1000) * 10   \n",
        "feature_1 = np.concatenate([np.random.randn(500), np.random.randn(500) + 5])\n",
        "data = np.column_stack([feature_0, feature_1])\n",
        "\n",
        "# initializing the scaler \n",
        "sc = StandardScaler()\n",
        "\n",
        "# fit tranform the dataset \n",
        "sc_scaled_data= sc.fit_transform(data)\n",
        "\n",
        "# model initialization \n",
        "model = KMeans(n_clusters=2)\n",
        "\n",
        "# fitting the model\n",
        "model.fit(sc_scaled_data)"
      ],
      "execution_count": 170,
      "outputs": [
        {
          "output_type": "execute_result",
          "data": {
            "text/plain": [
              "KMeans(n_clusters=2)"
            ]
          },
          "metadata": {
            "tags": []
          },
          "execution_count": 170
        }
      ]
    },
    {
      "cell_type": "code",
      "metadata": {
        "colab": {
          "base_uri": "https://localhost:8080/"
        },
        "id": "uMM0XocQQgyU",
        "outputId": "9a9f039e-2451-4df5-a0de-e7e95461ad3d"
      },
      "source": [
        "# Checking the centroids \n",
        "model.cluster_centers_"
      ],
      "execution_count": 171,
      "outputs": [
        {
          "output_type": "execute_result",
          "data": {
            "text/plain": [
              "array([[-0.04349583,  0.92707635],\n",
              "       [ 0.04367016, -0.93079209]])"
            ]
          },
          "metadata": {
            "tags": []
          },
          "execution_count": 171
        }
      ]
    },
    {
      "cell_type": "code",
      "metadata": {
        "colab": {
          "base_uri": "https://localhost:8080/",
          "height": 261
        },
        "id": "ezWTN1pZQjHE",
        "outputId": "be938086-3f8a-45c1-abed-f4818f204865"
      },
      "source": [
        "# Viz - 1\n",
        "plt.scatter(sc_scaled_data[ : , 0], sc_scaled_data[ : , 1], s =50, c='b')\n",
        "plt.scatter(-0.04349583, 0.92707635, s=200, c='g', marker='s')\n",
        "plt.scatter(0.04367016, -0.93079209, s=200, c='r', marker='s')\n",
        "plt.show()"
      ],
      "execution_count": 175,
      "outputs": [
        {
          "output_type": "display_data",
          "data": {
            "image/png": "[encoded data removed]",
            "text/plain": [
              "<Figure size 432x288 with 1 Axes>"
            ]
          },
          "metadata": {
            "tags": [],
            "image/png": {
              "width": 372,
              "height": 244
            }
          }
        }
      ]
    },
    {
      "cell_type": "code",
      "metadata": {
        "colab": {
          "base_uri": "https://localhost:8080/",
          "height": 276
        },
        "id": "gYezVvbYRAhQ",
        "outputId": "bff59dc2-db72-4c60-b57d-9de30a46376f"
      },
      "source": [
        "# Viz - 2\n",
        "plot_scatter(sc_scaled_data[:, 0], sc_scaled_data[:, 1], auto_scaled=True , \n",
        "             title='Data (equal axes units!)')"
      ],
      "execution_count": 176,
      "outputs": [
        {
          "output_type": "display_data",
          "data": {
            "image/png": "[encoded data removed]",
            "text/plain": [
              "<Figure size 288x288 with 1 Axes>"
            ]
          },
          "metadata": {
            "tags": [],
            "image/png": {
              "width": 260,
              "height": 259
            }
          }
        }
      ]
    },
    {
      "cell_type": "markdown",
      "metadata": {
        "id": "eGSKDnlnRICg"
      },
      "source": [
        "We can clearly see that the example from the scaled data is more sophisticed in terms data clustering into 2 cluster."
      ]
    },
    {
      "cell_type": "markdown",
      "metadata": {
        "id": "lYXBcoqm4vYv"
      },
      "source": [
        "## Exercise  3 - Preprocessing Pipeline (3 points)"
      ]
    },
    {
      "cell_type": "code",
      "metadata": {
        "id": "L_3tQILX4vYv"
      },
      "source": [
        "# I'm not using this line of code! See below. \n",
        "# I've used traditional variables naming for my convenience. \n",
        "wine_train, wine_val, wine_labels_train, wine_labels_val = train_test_split(wine_data, wine_labels, \n",
        "                                                                            test_size=0.3, random_state=42)"
      ],
      "execution_count": 179,
      "outputs": []
    },
    {
      "cell_type": "markdown",
      "metadata": {
        "id": "_MIV14da4vYv"
      },
      "source": [
        "Train model (for example, `LogisticRegression(solver='liblinear', penalty='l1')` on raw `wine_train` data; then train same model after data scaling; then add feature selection (and train model again on scaled data).\n",
        "\n",
        "Measure `accuracy` of all 3 approaches on `wine_val` dataset. Describe and explain results."
      ]
    },
    {
      "cell_type": "code",
      "metadata": {
        "id": "mjCuh0-14vYv",
        "colab": {
          "base_uri": "https://localhost:8080/"
        },
        "outputId": "1143d811-8e0d-4ae5-add4-b38b8fab4aca"
      },
      "source": [
        "## w\\o scaling\n",
        "from sklearn.linear_model import LogisticRegression\n",
        "\n",
        "# loading the dataset\n",
        "wine_sklearn = load_wine(as_frame=True) # need to have sklearn => version 0.23 \n",
        "wine_data, wine_labels = wine_sklearn['data'], wine_sklearn['target']\n",
        "\n",
        "X_train, X_test, y_train, y_test = train_test_split(wine_data, wine_labels,\n",
        "                                                    test_size=0.3, random_state=42)\n",
        "\n",
        "# model initialization\n",
        "model = LogisticRegression(solver='liblinear', penalty='l1')\n",
        "\n",
        "# fitting the model\n",
        "model.fit(X_train, y_train)\n",
        "\n",
        "# predcitions\n",
        "predictions = model.predict(X_test) #y_hat\n",
        "\n",
        "# accuracy score\n",
        "model_1_score = accuracy_score(y_test, predictions)\n",
        "model_1_score"
      ],
      "execution_count": 193,
      "outputs": [
        {
          "output_type": "execute_result",
          "data": {
            "text/plain": [
              "0.9814814814814815"
            ]
          },
          "metadata": {
            "tags": []
          },
          "execution_count": 193
        }
      ]
    },
    {
      "cell_type": "code",
      "metadata": {
        "colab": {
          "base_uri": "https://localhost:8080/"
        },
        "id": "fh0wBw-lS67E",
        "outputId": "45525abb-86b3-48ba-dcad-d2fd7eebbb34"
      },
      "source": [
        "## with scaling\n",
        "from sklearn.linear_model import LogisticRegression\n",
        "\n",
        "# loading the dataset\n",
        "wine_sklearn = load_wine(as_frame=True) # need to have sklearn => version 0.23 \n",
        "wine_data, wine_labels = wine_sklearn['data'], wine_sklearn['target']\n",
        "wine_data.astype('float64')\n",
        "\n",
        "# Train\\Test Split\n",
        "X_train, X_test, y_train, y_test = train_test_split(wine_data, wine_labels, \n",
        "                                                    test_size=0.3, random_state=42)\n",
        "\n",
        "\n",
        "# initializing the scaler \n",
        "sc = StandardScaler()\n",
        "\n",
        "# fit tranform the dataset \n",
        "train_sc_scaled_data = sc.fit_transform(X_train)\n",
        "test_sc_scaled_data = sc.fit_transform(X_test)\n",
        "\n",
        "\n",
        "# model initialization\n",
        "model_2 = LogisticRegression(solver='liblinear', penalty='l1')\n",
        "\n",
        "# fitting the model\n",
        "model_2.fit(train_sc_scaled_data, y_train)\n",
        "\n",
        "# predcitions\n",
        "predictions_2 = model_2.predict(test_sc_scaled_data) #y_hat\n",
        "\n",
        "# accuracy score\n",
        "model_2_score = accuracy_score(y_test, predictions_2)\n",
        "model_2_score"
      ],
      "execution_count": 199,
      "outputs": [
        {
          "output_type": "execute_result",
          "data": {
            "text/plain": [
              "0.9814814814814815"
            ]
          },
          "metadata": {
            "tags": []
          },
          "execution_count": 199
        }
      ]
    },
    {
      "cell_type": "markdown",
      "metadata": {
        "id": "NGPfSGoWUy-P"
      },
      "source": [
        ""
      ]
    },
    {
      "cell_type": "code",
      "metadata": {
        "colab": {
          "base_uri": "https://localhost:8080/"
        },
        "id": "8BNuOS-mWNB-",
        "outputId": "28c17697-cc8c-47cc-e327-4c8f5d4560aa"
      },
      "source": [
        "## with scaling\n",
        "from sklearn.linear_model import LogisticRegression\n",
        "from sklearn.feature_selection import SelectFromModel\n",
        "from sklearn.ensemble import RandomForestClassifier\n",
        "\n",
        "# loading the dataset\n",
        "wine_sklearn = load_wine(as_frame=True) # need to have sklearn => version 0.23 \n",
        "wine_data, wine_labels = wine_sklearn['data'], wine_sklearn['target']\n",
        "wine_data.astype('float64')\n",
        "\n",
        "# Train\\Test Split\n",
        "X_train, X_test, y_train, y_test = train_test_split(wine_data, wine_labels, \n",
        "                                                    test_size=0.3, random_state=42)\n",
        "\n",
        "\n",
        "# feature selection function\n",
        "def select_features(X_train, y_train, X_test):\n",
        "    # configure to select a subset of features\n",
        "    fs = SelectFromModel(RandomForestClassifier(n_estimators=25), max_features=5) #n_estimators=200\n",
        "\n",
        "    # learn relationship from training data\n",
        "    fs.fit(X_train, y_train)\n",
        "\n",
        "    # transform train input data\n",
        "    X_train_fs = fs.transform(X_train)\n",
        "\n",
        "    # transform test input data\n",
        "    X_test_fs = fs.transform(X_test)\n",
        "\n",
        "    return X_train_fs, X_test_fs, fs\n",
        "\n",
        "# applying feature selection\n",
        "X_train_fs, X_test_fs, fs = select_features(X_train, y_train, X_test)\n",
        "\n",
        "# initializing the scaler \n",
        "sc = StandardScaler()\n",
        "\n",
        "# fit tranform the dataset \n",
        "fs_train_sc_scaled_data = sc.fit_transform(X_train_fs)\n",
        "fs_test_sc_scaled_data = sc.fit_transform(X_test_fs)\n",
        "\n",
        "\n",
        "# model initialization\n",
        "model_3 = LogisticRegression(solver='liblinear', penalty='l1')\n",
        "\n",
        "# fitting the model\n",
        "model_3.fit(fs_train_sc_scaled_data, y_train)\n",
        "\n",
        "# predcitions\n",
        "predictions_3 = model_3.predict(fs_test_sc_scaled_data) #y_hat\n",
        "\n",
        "# accuracy score\n",
        "model_3_score = accuracy_score(y_test, predictions_3)\n",
        "model_3_score"
      ],
      "execution_count": 195,
      "outputs": [
        {
          "output_type": "execute_result",
          "data": {
            "text/plain": [
              "1.0"
            ]
          },
          "metadata": {
            "tags": []
          },
          "execution_count": 195
        }
      ]
    },
    {
      "cell_type": "code",
      "metadata": {
        "colab": {
          "base_uri": "https://localhost:8080/"
        },
        "id": "mlVX378GXxMy",
        "outputId": "13a0b190-e58e-44fd-97c1-618f6ec02b51"
      },
      "source": [
        "model_1_score, model_2_score, model_3_score"
      ],
      "execution_count": 196,
      "outputs": [
        {
          "output_type": "execute_result",
          "data": {
            "text/plain": [
              "(0.9814814814814815, 0.9814814814814815, 1.0)"
            ]
          },
          "metadata": {
            "tags": []
          },
          "execution_count": 196
        }
      ]
    },
    {
      "cell_type": "code",
      "metadata": {
        "colab": {
          "base_uri": "https://localhost:8080/"
        },
        "id": "zA_USl-AX-QO",
        "outputId": "e8bfedc4-9eb6-4b09-886a-c50234aa3869"
      },
      "source": [
        "model_1_score == model_2_score"
      ],
      "execution_count": 197,
      "outputs": [
        {
          "output_type": "execute_result",
          "data": {
            "text/plain": [
              "True"
            ]
          },
          "metadata": {
            "tags": []
          },
          "execution_count": 197
        }
      ]
    },
    {
      "cell_type": "markdown",
      "metadata": {
        "id": "LPbBEZS-XMUQ"
      },
      "source": [
        "LOL. Some overfitting here =). Need to investigate further. Also, I think that using Cross Validation should metigate overfitting to some degree. \n",
        "Additionally, it's quite strange that I've the same scores for w\\o scaling and with scaling. "
      ]
    },
    {
      "cell_type": "markdown",
      "metadata": {
        "id": "RXrweiIY4vYw"
      },
      "source": [
        "# Materials & References"
      ]
    },
    {
      "cell_type": "markdown",
      "metadata": {
        "id": "kNEiSaSw4vYw"
      },
      "source": [
        "1. General article about feature engineering and selection (main reference):\n",
        "https://github.com/Yorko/mlcourse.ai/blob/master/jupyter_english/topic06_features_regression/topic6_feature_engineering_feature_selection.ipynb\n",
        "\n",
        "\n",
        "2. Feature engineering/preprocessing, using scikit-learn API (great code examples, but really brief explanation):    \n",
        "https://scikit-learn.org/stable/modules/preprocessing\n",
        "\n",
        "\n",
        "3. Feature scaling/normalization:     \n",
        "https://towardsdatascience.com/all-about-feature-scaling-bcc0ad75cb35\n",
        "\n",
        "\n",
        "4. Log Transform/power transform:    \n",
        "https://medium.com/@kyawsawhtoon/log-transformation-purpose-and-interpretation-9444b4b049c9\n",
        "\n",
        "\n",
        "6. Missing values preprocessing using scikit-learn API (great code examples, great explanation):    \n",
        "https://scikit-learn.org/stable/modules/impute.html\n",
        "\n",
        "\n",
        "7. Feature selection scikit-learn API (great code examples, great explanation):   \n",
        "https://scikit-learn.org/stable/modules/feature_selection.html\n",
        "\n",
        "\n",
        "8. Melbourne housing dataset source:    \n",
        "https://www.kaggle.com/anthonypino/melbourne-housing-market"
      ]
    },
    {
      "cell_type": "markdown",
      "metadata": {
        "id": "_9OXWLrjhHaL"
      },
      "source": [
        "#### GPU for Catboost"
      ]
    },
    {
      "cell_type": "code",
      "metadata": {
        "id": "1xnB4xNhgkQj"
      },
      "source": [
        "# GPU activating\n",
        "%tensorflow_version 2.x\n",
        "import tensorflow as tf\n",
        "device_name = tf.test.gpu_device_name()\n",
        "if device_name != '/device:GPU:0':\n",
        "  raise SystemError('GPU device not found')\n",
        "print('Found GPU at: {}'.format(device_name))"
      ],
      "execution_count": null,
      "outputs": []
    },
    {
      "cell_type": "code",
      "metadata": {
        "id": "-53P7jekg9LY"
      },
      "source": [
        "# Checking the GPU\n",
        "%tensorflow_version 2.x\n",
        "import tensorflow as tf\n",
        "import timeit\n",
        "\n",
        "device_name = tf.test.gpu_device_name()\n",
        "if device_name != '/device:GPU:0':\n",
        "  print(\n",
        "      '\\n\\nThis error most likely means that this notebook is not '\n",
        "      'configured to use a GPU.  Change this in Notebook Settings via the '\n",
        "      'command palette (cmd/ctrl-shift-P) or the Edit menu.\\n\\n')\n",
        "  raise SystemError('GPU device not found')\n",
        "\n",
        "def cpu():\n",
        "  with tf.device('/cpu:0'):\n",
        "    random_image_cpu = tf.random.normal((100, 100, 100, 3))\n",
        "    net_cpu = tf.keras.layers.Conv2D(32, 7)(random_image_cpu)\n",
        "    return tf.math.reduce_sum(net_cpu)\n",
        "\n",
        "def gpu():\n",
        "  with tf.device('/device:GPU:0'):\n",
        "    random_image_gpu = tf.random.normal((100, 100, 100, 3))\n",
        "    net_gpu = tf.keras.layers.Conv2D(32, 7)(random_image_gpu)\n",
        "    return tf.math.reduce_sum(net_gpu)\n",
        "  \n",
        "# We run each op once to warm up; see: https://stackoverflow.com/a/45067900\n",
        "cpu()\n",
        "gpu()\n",
        "\n",
        "# Run the op several times.\n",
        "print('Time (s) to convolve 32x7x7x3 filter over random 100x100x100x3 images '\n",
        "      '(batch x height x width x channel). Sum of ten runs.')\n",
        "print('CPU (s):')\n",
        "cpu_time = timeit.timeit('cpu()', number=10, setup=\"from __main__ import cpu\")\n",
        "print(cpu_time)\n",
        "print('GPU (s):')\n",
        "gpu_time = timeit.timeit('gpu()', number=10, setup=\"from __main__ import gpu\")\n",
        "print(gpu_time)\n",
        "print('GPU speedup over CPU: {}x'.format(int(cpu_time/gpu_time)))"
      ],
      "execution_count": null,
      "outputs": []
    }
  ]
}